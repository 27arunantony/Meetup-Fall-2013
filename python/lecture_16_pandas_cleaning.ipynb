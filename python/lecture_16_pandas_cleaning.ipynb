{
 "metadata": {
  "name": ""
 },
 "nbformat": 3,
 "nbformat_minor": 0,
 "worksheets": [
  {
   "cells": [
    {
     "cell_type": "markdown",
     "metadata": {},
     "source": [
      "#Cleaning"
     ]
    },
    {
     "cell_type": "markdown",
     "metadata": {},
     "source": [
      "Campaign finance information for Colorado is publicly available from the [TRACER](http://tracer.sos.colorado.gov/PublicSite/homepage.aspx),Transparency in Contribution and Expenditure Reporting, website.  You may also use the REST [API](http://co.opencampaigndata.org/).\n",
      "\n",
      "Download **expense** data:\n",
      "\n",
      "- exp.csv is 578,013 lines\n",
      "- 131 MB"
     ]
    },
    {
     "cell_type": "code",
     "collapsed": false,
     "input": [
      "import pandas as pd\n",
      "import os"
     ],
     "language": "python",
     "metadata": {},
     "outputs": [],
     "prompt_number": 9
    },
    {
     "cell_type": "markdown",
     "metadata": {},
     "source": [
      "Read the data."
     ]
    },
    {
     "cell_type": "code",
     "collapsed": false,
     "input": [
      "df = pd.read_csv(os.path.join('data','exp.csv'))"
     ],
     "language": "python",
     "metadata": {},
     "outputs": [],
     "prompt_number": 10
    },
    {
     "cell_type": "code",
     "collapsed": false,
     "input": [
      "print df.head()"
     ],
     "language": "python",
     "metadata": {},
     "outputs": [
      {
       "output_type": "stream",
       "stream": "stdout",
       "text": [
        "<class 'pandas.core.frame.DataFrame'>\n",
        "Int64Index: 5 entries, 0 to 4\n",
        "Data columns (total 24 columns):\n",
        "address             5  non-null values\n",
        "amended             5  non-null values\n",
        "amendedRecordID     5  non-null values\n",
        "amendment           5  non-null values\n",
        "amount              0  non-null values\n",
        "candidateName       2  non-null values\n",
        "city                5  non-null values\n",
        "commiteeID          5  non-null values\n",
        "committeeName       5  non-null values\n",
        "committeeType       5  non-null values\n",
        "disbursementType    5  non-null values\n",
        "electioneering      0  non-null values\n",
        "employer            0  non-null values\n",
        "expenditureType     5  non-null values\n",
        "filedDate           5  non-null values\n",
        "firstName           0  non-null values\n",
        "jurisdiction        5  non-null values\n",
        "lastName            5  non-null values\n",
        "middleInitial       0  non-null values\n",
        "occupation          0  non-null values\n",
        "paymentType         5  non-null values\n",
        "recordID            5  non-null values\n",
        "state               5  non-null values\n",
        "zip                 5  non-null values\n",
        "dtypes: float64(2), object(22)\n"
       ]
      }
     ],
     "prompt_number": 11
    },
    {
     "cell_type": "code",
     "collapsed": false,
     "input": [
      "df['state'].unique()"
     ],
     "language": "python",
     "metadata": {},
     "outputs": [
      {
       "metadata": {},
       "output_type": "pyout",
       "prompt_number": 12,
       "text": [
        "array(['NY', 'CO', 'MA', 'ID', 'CA', 'MN', 'NC', 'GA', 'WA', 'DC', 'NJ',\n",
        "       'TX', 'KY', 'TN', 'IN', nan, 'AZ', 'MD', 'UT', 'PA', 'WI', 'FL',\n",
        "       'OH', 'NE', 'IL', 'D.', 'WV', 'DE', 'OT', 'MS', 'OK', 'MI', 'DI',\n",
        "       'LA', 'VA', 'ARVADA', 'BC', 'NV', 'TE', 'IA', 'MO', 'N/', 'NM',\n",
        "       'SD', 'ND', 'HI', 'ON', 'NH', 'CT', 'AL', 'KS', 'OR', 'QC', 'AR',\n",
        "       'NB', 'VT', 'MY', 'LU', 'SC', 'SO', 'WY', 'C0', 'UN', 'UK', 'MT',\n",
        "       'HA', 'CP', 'ME', 'BE', 'VI', 'IO', 'KE', 'CHECKS', 'NO', 'PE',\n",
        "       'CANDIDATE NAME TAG', 'GAS & PARKING', 'POSTAGE', 'GAS', 'LO',\n",
        "       'INK CARTRIDGE', 'T-SHIRTS',\n",
        "       'ELECTRONIC DONATION PROCESSING AND TRANSFER FEES', 'PARADE FEE',\n",
        "       'LARIMER DEMS BREAKFAST', 'TRXF FEES', 'PROPANE', 'FUEL', 'LODGING',\n",
        "       'AA', 'MAILING SUPPLIES', 'PARK RESERVATION FEE', 'EU', 'KA',\n",
        "       'LITERATURE', 'ICE CREAM FOR CAMPAIGN SOCIAL', 'GORA GORA ORKESTAR',\n",
        "       'BANK TRANSFER FEES', 'XX', 'CANDIDATE CAMPAIGN CONTRIBUTION',\n",
        "       'TRUMAN CAMPAIGN DINNER', 'IR', 'AB', 'POLITICAL YARD SIGNS',\n",
        "       'ROOM DIVIDER', 'POSTCARD PUBLICATION AND MAILING',\n",
        "       'BANK TRXF FEES', 'GE', 'RI', 'PR', 'AK', 'AP', 'NS', 'BR', 'R.',\n",
        "       'DU', 'BO', 'IN KIND CONTRIBUTION FROM CANDIDATE', 'AU', 'PU'], dtype=object)"
       ]
      }
     ],
     "prompt_number": 12
    },
    {
     "cell_type": "code",
     "collapsed": false,
     "input": [
      "df['zip'].unique()"
     ],
     "language": "python",
     "metadata": {},
     "outputs": [
      {
       "metadata": {},
       "output_type": "pyout",
       "prompt_number": 13,
       "text": [
        "array(['12201', '.....', '02144', ..., '32696.0', '40401.0', '80807-'], dtype=object)"
       ]
      }
     ],
     "prompt_number": 13
    },
    {
     "cell_type": "markdown",
     "metadata": {},
     "source": [
      "## Zip codes"
     ]
    },
    {
     "cell_type": "code",
     "collapsed": false,
     "input": [],
     "language": "python",
     "metadata": {},
     "outputs": []
    }
   ],
   "metadata": {}
  }
 ]
}