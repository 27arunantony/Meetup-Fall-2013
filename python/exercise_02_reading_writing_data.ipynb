{
 "metadata": {
  "css": [
   ""
  ],
  "name": ""
 },
 "nbformat": 3,
 "nbformat_minor": 0,
 "worksheets": [
  {
   "cells": [
    {
     "cell_type": "markdown",
     "metadata": {
      "slideshow": {
       "slide_type": "slide"
      }
     },
     "source": [
      "#Exercise: File IO"
     ]
    },
    {
     "cell_type": "markdown",
     "metadata": {},
     "source": [
      "##Copy script\n",
      "\n",
      "Create a small script that copies one file to another. \n",
      "\n",
      "- How many lines of code do you need?  \n",
      "- Can you do it in one?\n",
      "- Is there an advantage?\n",
      "\n",
      "Taken from [www.learnpythonthehardway.org](http://learnpythonthehardway.org/book/ex17.html)"
     ]
    },
    {
     "cell_type": "code",
     "collapsed": false,
     "input": [],
     "language": "python",
     "metadata": {},
     "outputs": []
    }
   ],
   "metadata": {}
  }
 ]
}