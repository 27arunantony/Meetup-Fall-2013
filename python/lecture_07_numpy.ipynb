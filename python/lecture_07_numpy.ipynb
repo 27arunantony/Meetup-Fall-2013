{
 "metadata": {
  "css": [
   ""
  ],
  "name": ""
 },
 "nbformat": 3,
 "nbformat_minor": 0,
 "worksheets": [
  {
   "cells": [
    {
     "cell_type": "markdown",
     "metadata": {},
     "source": [
      "#Numpy\n",
      "\n",
      "In the `numpy` package the terminology used for vectors, matrices and higher-dimensional data sets is *array*.\n",
      "\n",
      "This is adapted from Thomas Hauser's (thomas.hauser@colorado.edu) notebook.\n",
      "\n",
      "## Outline\n",
      "\n",
      "- Array creation\n",
      "- Array-generating functions\n",
      "    - `random`\n",
      "    - `arange`, `linspace`, `logspace`\n",
      "    - `zeros`, `ones`\n",
      "- File IO\n",
      "- Indexing and slicing\n",
      "- Filtering\n",
      "- Operations\n",
      "- Broadcasting\n",
      "\n",
      "## Further reading\n",
      " \n",
      "* http://numpy.scipy.org\n",
      "* http://scipy.org/Tentative_NumPy_Tutorial\n",
      "* http://scipy.org/NumPy_for_Matlab_Users - A Numpy guide for MATLAB users.\n"
     ]
    },
    {
     "cell_type": "code",
     "collapsed": false,
     "input": [
      "import numpy as np\n",
      "import matplotlib.pylab as plt"
     ],
     "language": "python",
     "metadata": {},
     "outputs": [],
     "prompt_number": 1
    },
    {
     "cell_type": "markdown",
     "metadata": {},
     "source": [
      "##`array`\n",
      "\n",
      "Arrays can be created from\n",
      "\n",
      "* lists or tuples\n",
      "* using functions \n",
      "* reading data from files"
     ]
    },
    {
     "cell_type": "code",
     "collapsed": false,
     "input": [
      "vector = np.array([1.0, 3.3, 4.1, 5.3, 6.1])\n",
      "print vector"
     ],
     "language": "python",
     "metadata": {},
     "outputs": [
      {
       "output_type": "stream",
       "stream": "stdout",
       "text": [
        "[ 1.   3.3  4.1  5.3  6.1]\n"
       ]
      }
     ],
     "prompt_number": 2
    },
    {
     "cell_type": "code",
     "collapsed": false,
     "input": [
      "matrix = np.array([ [1, 1, 1],[8, 4, 5] ])\n",
      "print matrix"
     ],
     "language": "python",
     "metadata": {},
     "outputs": [
      {
       "output_type": "stream",
       "stream": "stdout",
       "text": [
        "[[1 1 1]\n",
        " [8 4 5]]\n"
       ]
      }
     ],
     "prompt_number": 3
    },
    {
     "cell_type": "markdown",
     "metadata": {},
     "source": [
      "Arrays are of type `ndarray` that the `numpy` module provides."
     ]
    },
    {
     "cell_type": "code",
     "collapsed": false,
     "input": [
      "print type(vector)\n",
      "print type(matrix)"
     ],
     "language": "python",
     "metadata": {},
     "outputs": [
      {
       "output_type": "stream",
       "stream": "stdout",
       "text": [
        "<type 'numpy.ndarray'>\n",
        "<type 'numpy.ndarray'>\n"
       ]
      }
     ],
     "prompt_number": 4
    },
    {
     "cell_type": "markdown",
     "metadata": {},
     "source": [
      "Arrays have shapes. This is a property of an array"
     ]
    },
    {
     "cell_type": "code",
     "collapsed": false,
     "input": [
      "print np.shape(vector)\n",
      "print np.shape(matrix)"
     ],
     "language": "python",
     "metadata": {},
     "outputs": [
      {
       "output_type": "stream",
       "stream": "stdout",
       "text": [
        "(5,)\n",
        "(2, 3)\n"
       ]
      }
     ],
     "prompt_number": 5
    },
    {
     "cell_type": "markdown",
     "metadata": {},
     "source": [
      "The number of elements in the array is available through the `ndarray.size` property"
     ]
    },
    {
     "cell_type": "code",
     "collapsed": false,
     "input": [
      "print np.size(vector)\n",
      "print np.size(matrix)"
     ],
     "language": "python",
     "metadata": {},
     "outputs": [
      {
       "output_type": "stream",
       "stream": "stdout",
       "text": [
        "5\n",
        "6\n"
       ]
      }
     ],
     "prompt_number": 6
    },
    {
     "cell_type": "markdown",
     "metadata": {},
     "source": [
      "## Why user arrays?\n",
      "\n",
      "* List are general, can hold different data types\n",
      "* Numpy arrays are **statically typed** and **homogeneous**. \n",
      "* Numpy arrays are memory efficient.\n",
      "* Fast implementation of mathematical functions such as multiplication and addition of `numpy` arrays because of static type"
     ]
    },
    {
     "cell_type": "code",
     "collapsed": false,
     "input": [
      "print vector.dtype\n",
      "print matrix.dtype"
     ],
     "language": "python",
     "metadata": {},
     "outputs": [
      {
       "output_type": "stream",
       "stream": "stdout",
       "text": [
        "float64\n",
        "int64\n"
       ]
      }
     ],
     "prompt_number": 7
    },
    {
     "cell_type": "code",
     "collapsed": false,
     "input": [
      "print vector[1]\n",
      "print matrix[0,2]"
     ],
     "language": "python",
     "metadata": {},
     "outputs": [
      {
       "output_type": "stream",
       "stream": "stdout",
       "text": [
        "3.3\n",
        "1\n"
       ]
      }
     ],
     "prompt_number": 8
    },
    {
     "cell_type": "code",
     "collapsed": false,
     "input": [
      "matrix[0,] = 3\n",
      "print matrix"
     ],
     "language": "python",
     "metadata": {},
     "outputs": [
      {
       "output_type": "stream",
       "stream": "stdout",
       "text": [
        "[[3 3 3]\n",
        " [8 4 5]]\n"
       ]
      }
     ],
     "prompt_number": 9
    },
    {
     "cell_type": "code",
     "collapsed": false,
     "input": [
      "vector[1] = \"string\""
     ],
     "language": "python",
     "metadata": {},
     "outputs": [
      {
       "ename": "ValueError",
       "evalue": "could not convert string to float: string",
       "output_type": "pyerr",
       "traceback": [
        "\u001b[0;31m---------------------------------------------------------------------------\u001b[0m\n\u001b[0;31mValueError\u001b[0m                                Traceback (most recent call last)",
        "\u001b[0;32m<ipython-input-10-2921c180cd4a>\u001b[0m in \u001b[0;36m<module>\u001b[0;34m()\u001b[0m\n\u001b[0;32m----> 1\u001b[0;31m \u001b[0mvector\u001b[0m\u001b[0;34m[\u001b[0m\u001b[0;36m1\u001b[0m\u001b[0;34m]\u001b[0m \u001b[0;34m=\u001b[0m \u001b[0;34m\"string\"\u001b[0m\u001b[0;34m\u001b[0m\u001b[0m\n\u001b[0m",
        "\u001b[0;31mValueError\u001b[0m: could not convert string to float: string"
       ]
      }
     ],
     "prompt_number": 10
    },
    {
     "cell_type": "code",
     "collapsed": false,
     "input": [
      "matrix = np.array([[1, 2], [3, 4]], dtype=float64)\n",
      "print matrix"
     ],
     "language": "python",
     "metadata": {},
     "outputs": [
      {
       "output_type": "stream",
       "stream": "stdout",
       "text": [
        "[[ 1.  2.]\n",
        " [ 3.  4.]]\n"
       ]
      }
     ],
     "prompt_number": 11
    },
    {
     "cell_type": "markdown",
     "metadata": {},
     "source": [
      "## Using array-generating functions\n",
      " \n",
      "For larger arrays it is inpractical to initialize the data manually, using explicit pythons lists. Instead we can use one of the many functions in `numpy` that generates arrays of different forms. Some of the more common are:"
     ]
    },
    {
     "cell_type": "markdown",
     "metadata": {},
     "source": [
      "### `arange`"
     ]
    },
    {
     "cell_type": "code",
     "collapsed": false,
     "input": [
      "x = np.arange(1, 10, 0.25)"
     ],
     "language": "python",
     "metadata": {},
     "outputs": [],
     "prompt_number": 13
    },
    {
     "cell_type": "code",
     "collapsed": false,
     "input": [
      "print x"
     ],
     "language": "python",
     "metadata": {},
     "outputs": [
      {
       "output_type": "stream",
       "stream": "stdout",
       "text": [
        "[ 1.    1.25  1.5   1.75  2.    2.25  2.5   2.75  3.    3.25  3.5   3.75\n",
        "  4.    4.25  4.5   4.75  5.    5.25  5.5   5.75  6.    6.25  6.5   6.75\n",
        "  7.    7.25  7.5   7.75  8.    8.25  8.5   8.75  9.    9.25  9.5   9.75]\n"
       ]
      }
     ],
     "prompt_number": 14
    },
    {
     "cell_type": "markdown",
     "metadata": {},
     "source": [
      "###`linspace`"
     ]
    },
    {
     "cell_type": "code",
     "collapsed": false,
     "input": [
      "print np.linspace(0, 10, 25)"
     ],
     "language": "python",
     "metadata": {},
     "outputs": [
      {
       "output_type": "stream",
       "stream": "stdout",
       "text": [
        "[  0.           0.41666667   0.83333333   1.25         1.66666667\n",
        "   2.08333333   2.5          2.91666667   3.33333333   3.75         4.16666667\n",
        "   4.58333333   5.           5.41666667   5.83333333   6.25         6.66666667\n",
        "   7.08333333   7.5          7.91666667   8.33333333   8.75         9.16666667\n",
        "   9.58333333  10.        ]\n"
       ]
      }
     ],
     "prompt_number": 16
    },
    {
     "cell_type": "markdown",
     "metadata": {},
     "source": [
      "###`logspace`"
     ]
    },
    {
     "cell_type": "code",
     "collapsed": false,
     "input": [
      "print np.logspace(0, 5, 10, base=e)"
     ],
     "language": "python",
     "metadata": {},
     "outputs": [
      {
       "output_type": "stream",
       "stream": "stdout",
       "text": [
        "[   1.            1.742909      3.03773178    5.29449005    9.22781435\n",
        "   16.08324067   28.03162489   48.85657127   85.15255772  148.4131591 ]\n"
       ]
      }
     ],
     "prompt_number": 18
    },
    {
     "cell_type": "markdown",
     "metadata": {},
     "source": [
      "### `random`"
     ]
    },
    {
     "cell_type": "code",
     "collapsed": false,
     "input": [
      "from numpy import random"
     ],
     "language": "python",
     "metadata": {},
     "outputs": [],
     "prompt_number": 19
    },
    {
     "cell_type": "markdown",
     "metadata": {},
     "source": [
      "Uniform random numbers ini [0,1]"
     ]
    },
    {
     "cell_type": "code",
     "collapsed": false,
     "input": [
      "print random.rand(10)"
     ],
     "language": "python",
     "metadata": {},
     "outputs": [
      {
       "output_type": "stream",
       "stream": "stdout",
       "text": [
        "[ 0.00204087  0.13367541  0.0657992   0.38985939  0.771208    0.73517145\n",
        "  0.56701401  0.69561574  0.64782249  0.23475205]\n"
       ]
      }
     ],
     "prompt_number": 20
    },
    {
     "cell_type": "code",
     "collapsed": false,
     "input": [
      "show(plt.hist(random.rand(1000)))"
     ],
     "language": "python",
     "metadata": {},
     "outputs": [
      {
       "metadata": {},
       "output_type": "display_data",
       "png": "[encoded data removed]",
       "text": [
        "<matplotlib.figure.Figure at 0x1062dad50>"
       ]
      }
     ],
     "prompt_number": 22
    },
    {
     "cell_type": "code",
     "collapsed": false,
     "input": [
      "print random.rand(5,5)"
     ],
     "language": "python",
     "metadata": {},
     "outputs": [
      {
       "output_type": "stream",
       "stream": "stdout",
       "text": [
        "[[ 0.0951541   0.97766244  0.10611215  0.08464481  0.86532506]\n",
        " [ 0.11514001  0.92563103  0.41364039  0.70241175  0.06789488]\n",
        " [ 0.34668859  0.12044613  0.99382289  0.67398836  0.45874744]\n",
        " [ 0.25325989  0.05577428  0.9873246   0.49152354  0.61655115]\n",
        " [ 0.45766471  0.38441232  0.35115033  0.48338528  0.74875407]]\n"
       ]
      }
     ],
     "prompt_number": 23
    },
    {
     "cell_type": "markdown",
     "metadata": {},
     "source": [
      "Standard normal distributed random numbers"
     ]
    },
    {
     "cell_type": "code",
     "collapsed": false,
     "input": [
      "print random.randn(5,5)"
     ],
     "language": "python",
     "metadata": {},
     "outputs": [
      {
       "output_type": "stream",
       "stream": "stdout",
       "text": [
        "[[-0.78378785 -0.7507309   1.18977957  0.66453586  0.43621292]\n",
        " [-0.7033893   1.71182828 -0.4854382  -1.91296185 -1.53208718]\n",
        " [ 0.41306985  1.0434072   1.41230332 -0.72642767  0.50904052]\n",
        " [-2.47496148  0.42070382  2.37884417 -1.4214902   1.215939  ]\n",
        " [-0.18081279  0.17269847 -0.36262317 -0.94709292 -2.19897324]]\n"
       ]
      }
     ],
     "prompt_number": 25
    },
    {
     "cell_type": "code",
     "collapsed": false,
     "input": [
      "show(plt.hist(random.randn(1000)))"
     ],
     "language": "python",
     "metadata": {},
     "outputs": [
      {
       "metadata": {},
       "output_type": "display_data",
       "png": "[encoded data removed]",
       "text": [
        "<matplotlib.figure.Figure at 0x106252150>"
       ]
      }
     ],
     "prompt_number": 26
    },
    {
     "cell_type": "markdown",
     "metadata": {},
     "source": [
      "There are several useful `np.random` functions.\n",
      "\n",
      "    seed, permutation, shuffle, randn, rand"
     ]
    },
    {
     "cell_type": "markdown",
     "metadata": {},
     "source": [
      "### `zeros`, `ones`"
     ]
    },
    {
     "cell_type": "code",
     "collapsed": false,
     "input": [
      "print np.zeros(10)"
     ],
     "language": "python",
     "metadata": {},
     "outputs": [
      {
       "output_type": "stream",
       "stream": "stdout",
       "text": [
        "[ 0.  0.  0.  0.  0.  0.  0.  0.  0.  0.]\n"
       ]
      }
     ],
     "prompt_number": 27
    },
    {
     "cell_type": "code",
     "collapsed": false,
     "input": [
      "print np.zeros((3,3))"
     ],
     "language": "python",
     "metadata": {},
     "outputs": [
      {
       "output_type": "stream",
       "stream": "stdout",
       "text": [
        "[[ 0.  0.  0.]\n",
        " [ 0.  0.  0.]\n",
        " [ 0.  0.  0.]]\n"
       ]
      }
     ],
     "prompt_number": 28
    },
    {
     "cell_type": "code",
     "collapsed": false,
     "input": [
      "print np.ones((3,3))"
     ],
     "language": "python",
     "metadata": {},
     "outputs": [
      {
       "output_type": "stream",
       "stream": "stdout",
       "text": [
        "[[ 1.  1.  1.]\n",
        " [ 1.  1.  1.]\n",
        " [ 1.  1.  1.]]\n"
       ]
      }
     ],
     "prompt_number": 29
    },
    {
     "cell_type": "markdown",
     "metadata": {},
     "source": [
      "##Reading and writing data with `numpy`"
     ]
    },
    {
     "cell_type": "code",
     "collapsed": false,
     "input": [
      "import os\n",
      "filename = os.path.join('data','iris.csv')"
     ],
     "language": "python",
     "metadata": {},
     "outputs": [],
     "prompt_number": 190
    },
    {
     "cell_type": "code",
     "collapsed": false,
     "input": [
      "!head data/iris.csv"
     ],
     "language": "python",
     "metadata": {},
     "outputs": [
      {
       "output_type": "stream",
       "stream": "stdout",
       "text": [
        "sepal_length,sepal_width,pedal_length,pedal_width,class\r\n",
        "5.1,3.5,1.4,0.2,Iris-setosa\r\n",
        "4.9,3.0,1.4,0.2,Iris-setosa\r\n",
        "4.7,3.2,1.3,0.2,Iris-setosa\r\n",
        "4.6,3.1,1.5,0.2,Iris-setosa\r\n",
        "5.0,3.6,1.4,0.2,Iris-setosa\r\n",
        "5.4,3.9,1.7,0.4,Iris-setosa\r\n",
        "4.6,3.4,1.4,0.3,Iris-setosa\r\n",
        "5.0,3.4,1.5,0.2,Iris-setosa\r\n",
        "4.4,2.9,1.4,0.2,Iris-setosa\r\n"
       ]
      }
     ],
     "prompt_number": 191
    },
    {
     "cell_type": "markdown",
     "metadata": {},
     "source": [
      "###Reading"
     ]
    },
    {
     "cell_type": "code",
     "collapsed": false,
     "input": [
      "iris = np.loadtxt(filename, delimiter=',', usecols=(0,1,2,3), skiprows=1)\n",
      "print iris[0:5:,] #Talk about slicing soon"
     ],
     "language": "python",
     "metadata": {},
     "outputs": [
      {
       "output_type": "stream",
       "stream": "stdout",
       "text": [
        "[[ 5.1  3.5  1.4  0.2]\n",
        " [ 4.9  3.   1.4  0.2]\n",
        " [ 4.7  3.2  1.3  0.2]\n",
        " [ 4.6  3.1  1.5  0.2]\n",
        " [ 5.   3.6  1.4  0.2]]\n"
       ]
      }
     ],
     "prompt_number": 132
    },
    {
     "cell_type": "code",
     "collapsed": false,
     "input": [
      "sl, sw = np.loadtxt(filename, delimiter=',', usecols=(0,1), skiprows=1, unpack=1)\n",
      "show(plt.scatter(sl,sw))"
     ],
     "language": "python",
     "metadata": {},
     "outputs": [
      {
       "metadata": {},
       "output_type": "display_data",
       "png": "[encoded data removed]",
       "text": [
        "<matplotlib.figure.Figure at 0x106246950>"
       ]
      }
     ],
     "prompt_number": 135
    },
    {
     "cell_type": "markdown",
     "metadata": {},
     "source": [
      "Missing data? Use `np.genfromtxt`."
     ]
    },
    {
     "cell_type": "code",
     "collapsed": false,
     "input": [
      "iris = np.genfromtxt(file, delimiter=',', usecols=(0,1,2,3), skiprows=1 )"
     ],
     "language": "python",
     "metadata": {},
     "outputs": [],
     "prompt_number": 42
    },
    {
     "cell_type": "markdown",
     "metadata": {},
     "source": [
      "Don't forget to ask for help: `help(np.loadtxt)` and `help(np.genfromtxt)`."
     ]
    },
    {
     "cell_type": "markdown",
     "metadata": {},
     "source": [
      "###Writing"
     ]
    },
    {
     "cell_type": "code",
     "collapsed": false,
     "input": [
      "filename = os.path.join('data','iris.txt')\n",
      "np.savetxt(filename, iris)\n",
      "!head $filename"
     ],
     "language": "python",
     "metadata": {},
     "outputs": [
      {
       "output_type": "stream",
       "stream": "stdout",
       "text": [
        "5.099999999999999645e+00 3.500000000000000000e+00 1.399999999999999911e+00 2.000000000000000111e-01\r\n",
        "4.900000000000000355e+00 3.000000000000000000e+00 1.399999999999999911e+00 2.000000000000000111e-01\r\n",
        "4.700000000000000178e+00 3.200000000000000178e+00 1.300000000000000044e+00 2.000000000000000111e-01\r\n",
        "4.599999999999999645e+00 3.100000000000000089e+00 1.500000000000000000e+00 2.000000000000000111e-01\r\n",
        "5.000000000000000000e+00 3.600000000000000089e+00 1.399999999999999911e+00 2.000000000000000111e-01\r\n",
        "5.400000000000000355e+00 3.899999999999999911e+00 1.699999999999999956e+00 4.000000000000000222e-01\r\n",
        "4.599999999999999645e+00 3.399999999999999911e+00 1.399999999999999911e+00 2.999999999999999889e-01\r\n",
        "5.000000000000000000e+00 3.399999999999999911e+00 1.500000000000000000e+00 2.000000000000000111e-01\r\n",
        "4.400000000000000355e+00 2.899999999999999911e+00 1.399999999999999911e+00 2.000000000000000111e-01\r\n",
        "4.900000000000000355e+00 3.100000000000000089e+00 1.500000000000000000e+00 1.000000000000000056e-01\r\n"
       ]
      }
     ],
     "prompt_number": 44
    },
    {
     "cell_type": "code",
     "collapsed": false,
     "input": [
      "np.savetxt(filename, iris, fmt='%.2f', delimiter='\\t')\n",
      "!head $filename"
     ],
     "language": "python",
     "metadata": {},
     "outputs": [
      {
       "output_type": "stream",
       "stream": "stdout",
       "text": [
        "5.10\t3.50\t1.40\t0.20\r\n",
        "4.90\t3.00\t1.40\t0.20\r\n",
        "4.70\t3.20\t1.30\t0.20\r\n",
        "4.60\t3.10\t1.50\t0.20\r\n",
        "5.00\t3.60\t1.40\t0.20\r\n",
        "5.40\t3.90\t1.70\t0.40\r\n",
        "4.60\t3.40\t1.40\t0.30\r\n",
        "5.00\t3.40\t1.50\t0.20\r\n",
        "4.40\t2.90\t1.40\t0.20\r\n",
        "4.90\t3.10\t1.50\t0.10\r\n"
       ]
      }
     ],
     "prompt_number": 51
    },
    {
     "cell_type": "markdown",
     "metadata": {},
     "source": [
      "`help(np.savetxt)`"
     ]
    },
    {
     "cell_type": "markdown",
     "metadata": {},
     "source": [
      "##Indexing and slicing\n",
      "\n",
      "Index slicing is the technical name for the syntax `container[lower:upper:step]` to extract part of an array.\n",
      "\n",
      "We can omit any of the three parameters in `container[lower:upper:step]`."
     ]
    },
    {
     "cell_type": "code",
     "collapsed": false,
     "input": [
      "x = np.arange(1, 20, 1)\n",
      "print x"
     ],
     "language": "python",
     "metadata": {},
     "outputs": [
      {
       "output_type": "stream",
       "stream": "stdout",
       "text": [
        "[ 1  2  3  4  5  6  7  8  9 10 11 12 13 14 15 16 17 18 19]\n"
       ]
      }
     ],
     "prompt_number": 67
    },
    {
     "cell_type": "code",
     "collapsed": false,
     "input": [
      "print x[0:10]"
     ],
     "language": "python",
     "metadata": {},
     "outputs": [
      {
       "output_type": "stream",
       "stream": "stdout",
       "text": [
        "[ 1  2  3  4  5  6  7  8  9 10]\n"
       ]
      }
     ],
     "prompt_number": 68
    },
    {
     "cell_type": "code",
     "collapsed": false,
     "input": [
      "print x[:10]"
     ],
     "language": "python",
     "metadata": {},
     "outputs": [
      {
       "output_type": "stream",
       "stream": "stdout",
       "text": [
        "[ 1  2  3  4  5  6  7  8  9 10]\n"
       ]
      }
     ],
     "prompt_number": 69
    },
    {
     "cell_type": "code",
     "collapsed": false,
     "input": [
      "print x[::2]"
     ],
     "language": "python",
     "metadata": {},
     "outputs": [
      {
       "output_type": "stream",
       "stream": "stdout",
       "text": [
        "[ 1  3  5  7  9 11 13 15 17 19]\n"
       ]
      }
     ],
     "prompt_number": 70
    },
    {
     "cell_type": "code",
     "collapsed": false,
     "input": [
      "print x[1::2]"
     ],
     "language": "python",
     "metadata": {},
     "outputs": [
      {
       "output_type": "stream",
       "stream": "stdout",
       "text": [
        "[ 2  4  6  8 10 12 14 16 18]\n"
       ]
      }
     ],
     "prompt_number": 71
    },
    {
     "cell_type": "markdown",
     "metadata": {},
     "source": [
      "Last element"
     ]
    },
    {
     "cell_type": "code",
     "collapsed": false,
     "input": [
      "print x[-1:]"
     ],
     "language": "python",
     "metadata": {},
     "outputs": [
      {
       "output_type": "stream",
       "stream": "stdout",
       "text": [
        "[19]\n"
       ]
      }
     ],
     "prompt_number": 72
    },
    {
     "cell_type": "markdown",
     "metadata": {},
     "source": [
      "Last 10 elements"
     ]
    },
    {
     "cell_type": "code",
     "collapsed": false,
     "input": [
      "print x[-10:]"
     ],
     "language": "python",
     "metadata": {},
     "outputs": [
      {
       "output_type": "stream",
       "stream": "stdout",
       "text": [
        "[10 11 12 13 14 15 16 17 18 19]\n"
       ]
      }
     ],
     "prompt_number": 73
    },
    {
     "cell_type": "markdown",
     "metadata": {},
     "source": [
      "###Fancy Indexing"
     ]
    },
    {
     "cell_type": "code",
     "collapsed": false,
     "input": [
      "matrix = np.zeros((5,5), dtype='int64')\n",
      "\n",
      "for i in xrange(5):\n",
      "    matrix[i] = i\n",
      "    \n",
      "print matrix"
     ],
     "language": "python",
     "metadata": {},
     "outputs": [
      {
       "output_type": "stream",
       "stream": "stdout",
       "text": [
        "[[0 0 0 0 0]\n",
        " [1 1 1 1 1]\n",
        " [2 2 2 2 2]\n",
        " [3 3 3 3 3]\n",
        " [4 4 4 4 4]]\n"
       ]
      }
     ],
     "prompt_number": 89
    },
    {
     "cell_type": "code",
     "collapsed": false,
     "input": [
      "print matrix[[0,2,4]]"
     ],
     "language": "python",
     "metadata": {},
     "outputs": [
      {
       "output_type": "stream",
       "stream": "stdout",
       "text": [
        "[[0 0 0 0 0]\n",
        " [2 2 2 2 2]\n",
        " [4 4 4 4 4]]\n"
       ]
      }
     ],
     "prompt_number": 90
    },
    {
     "cell_type": "markdown",
     "metadata": {},
     "source": [
      "##Filtering"
     ]
    },
    {
     "cell_type": "code",
     "collapsed": false,
     "input": [
      "print x > 10"
     ],
     "language": "python",
     "metadata": {},
     "outputs": [
      {
       "output_type": "stream",
       "stream": "stdout",
       "text": [
        "[False False False False False False False False False False  True  True\n",
        "  True  True  True  True  True  True  True]\n"
       ]
      }
     ],
     "prompt_number": 76
    },
    {
     "cell_type": "code",
     "collapsed": false,
     "input": [
      "print x[x > 10]"
     ],
     "language": "python",
     "metadata": {},
     "outputs": [
      {
       "output_type": "stream",
       "stream": "stdout",
       "text": [
        "[11 12 13 14 15 16 17 18 19]\n"
       ]
      }
     ],
     "prompt_number": 77
    },
    {
     "cell_type": "code",
     "collapsed": false,
     "input": [
      "mask = (5 < x) * (x < 10)\n",
      "print mask"
     ],
     "language": "python",
     "metadata": {},
     "outputs": [
      {
       "output_type": "stream",
       "stream": "stdout",
       "text": [
        "[False False False False False  True  True  True  True False False False\n",
        " False False False False False False False]\n"
       ]
      }
     ],
     "prompt_number": 78
    },
    {
     "cell_type": "code",
     "collapsed": false,
     "input": [
      "print x[mask]"
     ],
     "language": "python",
     "metadata": {},
     "outputs": [
      {
       "output_type": "stream",
       "stream": "stdout",
       "text": [
        "[6 7 8 9]\n"
       ]
      }
     ],
     "prompt_number": 79
    },
    {
     "cell_type": "markdown",
     "metadata": {},
     "source": [
      "##Operations"
     ]
    },
    {
     "cell_type": "markdown",
     "metadata": {},
     "source": [
      "### Scalar"
     ]
    },
    {
     "cell_type": "markdown",
     "metadata": {},
     "source": [
      "Several built-in functions *unary* functions (takes one argument):\n",
      "\n",
      "    abs, fabs, sqrt, exp, square, log, ceil, floor"
     ]
    },
    {
     "cell_type": "code",
     "collapsed": false,
     "input": [
      "x = np.arange(-5,5)\n",
      "print np.square(x)"
     ],
     "language": "python",
     "metadata": {},
     "outputs": [
      {
       "output_type": "stream",
       "stream": "stdout",
       "text": [
        "[25 16  9  4  1  0  1  4  9 16]\n"
       ]
      }
     ],
     "prompt_number": 96
    },
    {
     "cell_type": "markdown",
     "metadata": {},
     "source": [
      "*Binary* functions:\n",
      "    \n",
      "    add, subtract, multiply, divide, power, maximum, minimum, greater, less"
     ]
    },
    {
     "cell_type": "code",
     "collapsed": false,
     "input": [
      "x = np.arange(-5,5)\n",
      "y = np.square(x)\n",
      "\n",
      "print np.minimum(x,y)"
     ],
     "language": "python",
     "metadata": {},
     "outputs": [
      {
       "output_type": "stream",
       "stream": "stdout",
       "text": [
        "[-5 -4 -3 -2 -1  0  1  2  3  4]\n"
       ]
      }
     ],
     "prompt_number": 105
    },
    {
     "cell_type": "markdown",
     "metadata": {},
     "source": [
      "### Statistic"
     ]
    },
    {
     "cell_type": "markdown",
     "metadata": {},
     "source": [
      "Methods:\n",
      "\n",
      "        sum, mean, std, var, min, max, argmin, argmax, cumsum, cumprod"
     ]
    },
    {
     "cell_type": "code",
     "collapsed": false,
     "input": [
      "print np.cumsum(y)"
     ],
     "language": "python",
     "metadata": {},
     "outputs": [
      {
       "output_type": "stream",
       "stream": "stdout",
       "text": [
        "[25 41 50 54 55 55 56 60 69 85]\n"
       ]
      }
     ],
     "prompt_number": 111
    },
    {
     "cell_type": "markdown",
     "metadata": {},
     "source": [
      "###Linear Algebra"
     ]
    },
    {
     "cell_type": "markdown",
     "metadata": {},
     "source": [
      "Methods:\n",
      "    \n",
      "    dot, inv, diag, trace, eig, det, qr, svd, solve"
     ]
    },
    {
     "cell_type": "code",
     "collapsed": false,
     "input": [
      "a = np.arange(0,25).reshape((5,5))\n",
      "print a"
     ],
     "language": "python",
     "metadata": {},
     "outputs": [
      {
       "output_type": "stream",
       "stream": "stdout",
       "text": [
        "[[ 0  1  2  3  4]\n",
        " [ 5  6  7  8  9]\n",
        " [10 11 12 13 14]\n",
        " [15 16 17 18 19]\n",
        " [20 21 22 23 24]]\n"
       ]
      }
     ],
     "prompt_number": 124
    },
    {
     "cell_type": "code",
     "collapsed": false,
     "input": [
      "b = a*a\n",
      "print b"
     ],
     "language": "python",
     "metadata": {},
     "outputs": [
      {
       "output_type": "stream",
       "stream": "stdout",
       "text": [
        "[[  0   1   4   9  16]\n",
        " [ 25  36  49  64  81]\n",
        " [100 121 144 169 196]\n",
        " [225 256 289 324 361]\n",
        " [400 441 484 529 576]]\n"
       ]
      }
     ],
     "prompt_number": 125
    },
    {
     "cell_type": "code",
     "collapsed": false,
     "input": [
      "b = np.dot(a,a.T)\n",
      "print b"
     ],
     "language": "python",
     "metadata": {},
     "outputs": [
      {
       "output_type": "stream",
       "stream": "stdout",
       "text": [
        "[[  30   80  130  180  230]\n",
        " [  80  255  430  605  780]\n",
        " [ 130  430  730 1030 1330]\n",
        " [ 180  605 1030 1455 1880]\n",
        " [ 230  780 1330 1880 2430]]\n"
       ]
      }
     ],
     "prompt_number": 126
    },
    {
     "cell_type": "markdown",
     "metadata": {},
     "source": [
      "##Broadcasting\n",
      "\n",
      "Arithmetic between `array`s of differnt shapes."
     ]
    },
    {
     "cell_type": "code",
     "collapsed": false,
     "input": [
      "vec = np.arange(1,10)\n",
      "print vec * 5"
     ],
     "language": "python",
     "metadata": {},
     "outputs": [
      {
       "output_type": "stream",
       "stream": "stdout",
       "text": [
        "[ 5 10 15 20 25 30 35 40 45]\n"
       ]
      }
     ],
     "prompt_number": 136
    },
    {
     "cell_type": "markdown",
     "metadata": {},
     "source": [
      "The value `5` was broadcasted to the elements of vec.  Here's a more extensive example:\n",
      "\n",
      "Find the distance from the mean of the set to every point?"
     ]
    },
    {
     "cell_type": "code",
     "collapsed": false,
     "input": [
      "a = np.random.randn(400,2)\n",
      "plt.plot(a[:,0], a[:,1], 'o')\n",
      "plt.show()"
     ],
     "language": "python",
     "metadata": {},
     "outputs": [
      {
       "metadata": {},
       "output_type": "display_data",
       "png": "[encoded data removed]",
       "text": [
        "<matplotlib.figure.Figure at 0x105f32e10>"
       ]
      }
     ],
     "prompt_number": 3
    },
    {
     "cell_type": "code",
     "collapsed": false,
     "input": [
      "m = a.mean(0)\n",
      "print m, m.shape"
     ],
     "language": "python",
     "metadata": {},
     "outputs": [
      {
       "output_type": "stream",
       "stream": "stdout",
       "text": [
        "[-0.0078143  -0.02005679] (2,)\n"
       ]
      }
     ],
     "prompt_number": 172
    },
    {
     "cell_type": "markdown",
     "metadata": {},
     "source": [
      "Euclidean distance\n",
      "\n",
      "$$d = \\sqrt{ \\sum (x_i - y_i)^2 }$$"
     ]
    },
    {
     "cell_type": "code",
     "collapsed": false,
     "input": [
      "sq = np.square(a - a.mean(0))\n",
      "print sq.shape"
     ],
     "language": "python",
     "metadata": {},
     "outputs": [
      {
       "output_type": "stream",
       "stream": "stdout",
       "text": [
        "(400, 2)\n"
       ]
      }
     ],
     "prompt_number": 183
    },
    {
     "cell_type": "markdown",
     "metadata": {},
     "source": [
      "The mean `a.mean(0)` was broadcast to every row in our matrix `a`.  Now we compute the column sum of `sq`."
     ]
    },
    {
     "cell_type": "code",
     "collapsed": false,
     "input": [
      "ssq = sq.sum(1)\n",
      "print ssq.shape"
     ],
     "language": "python",
     "metadata": {},
     "outputs": [
      {
       "output_type": "stream",
       "stream": "stdout",
       "text": [
        "(400,)\n"
       ]
      }
     ],
     "prompt_number": 185
    },
    {
     "cell_type": "markdown",
     "metadata": {},
     "source": [
      "Now take the `sqrt`."
     ]
    },
    {
     "cell_type": "code",
     "collapsed": false,
     "input": [
      "dist = np.sqrt(ssq)\n",
      "print dist.shape"
     ],
     "language": "python",
     "metadata": {},
     "outputs": [
      {
       "output_type": "stream",
       "stream": "stdout",
       "text": [
        "(400,)\n"
       ]
      }
     ],
     "prompt_number": 188
    },
    {
     "cell_type": "code",
     "collapsed": false,
     "input": [
      "show(plt.hist(dist))"
     ],
     "language": "python",
     "metadata": {},
     "outputs": [
      {
       "metadata": {},
       "output_type": "display_data",
       "png": "[encoded data removed]",
       "text": [
        "<matplotlib.figure.Figure at 0x106ce56d0>"
       ]
      }
     ],
     "prompt_number": 189
    },
    {
     "cell_type": "code",
     "collapsed": false,
     "input": [],
     "language": "python",
     "metadata": {},
     "outputs": []
    }
   ],
   "metadata": {}
  }
 ]
}