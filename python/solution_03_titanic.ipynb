{
 "metadata": {
  "css": [
   ""
  ],
  "name": ""
 },
 "nbformat": 3,
 "nbformat_minor": 0,
 "worksheets": [
  {
   "cells": [
    {
     "cell_type": "markdown",
     "metadata": {
      "slideshow": {
       "slide_type": "slide"
      }
     },
     "source": [
      "#Exercise Titanic Data"
     ]
    },
    {
     "cell_type": "markdown",
     "metadata": {},
     "source": [
      "This is the 892 line training set from [Kaggle](http://www.kaggle.com/c/titanic-gettingStarted/data)."
     ]
    },
    {
     "cell_type": "code",
     "collapsed": false,
     "input": [
      "import os, csv\n",
      "data_path = os.path.join('data','titanic.csv')\n",
      "print data_path"
     ],
     "language": "python",
     "metadata": {},
     "outputs": [
      {
       "output_type": "stream",
       "stream": "stdout",
       "text": [
        "data/titanic.csv\n"
       ]
      }
     ],
     "prompt_number": 1
    },
    {
     "cell_type": "markdown",
     "metadata": {},
     "source": [
      "### Read the data\n",
      "\n",
      "- Consider using the `csv` module\n",
      "- Verify that you get `892` lines"
     ]
    },
    {
     "cell_type": "code",
     "collapsed": false,
     "input": [
      "with open(data_path,'r') as infile:\n",
      "    reader = csv.reader(infile)\n",
      "    data = list(reader)"
     ],
     "language": "python",
     "metadata": {},
     "outputs": [],
     "prompt_number": 18
    },
    {
     "cell_type": "code",
     "collapsed": false,
     "input": [
      "print len(data)"
     ],
     "language": "python",
     "metadata": {},
     "outputs": [
      {
       "output_type": "stream",
       "stream": "stdout",
       "text": [
        "892\n"
       ]
      }
     ],
     "prompt_number": 19
    },
    {
     "cell_type": "markdown",
     "metadata": {},
     "source": [
      "### What percent of the people survied?\n",
      "\n",
      "- If the first column is a one, they survived.\n",
      "- You *may* need to catch a `ValueError`\n",
      "- Make sure you compare the same types:\n",
      "```python\n",
      "    d[0] == '1'\n",
      "    int(d[0]) == 1\n",
      "```"
     ]
    },
    {
     "cell_type": "code",
     "collapsed": false,
     "input": [
      "survived = 0\n",
      "for d in data:\n",
      "    try:\n",
      "        if int(d[0]) == 1:\n",
      "            survived+=1\n",
      "    except ValueError:\n",
      "        pass"
     ],
     "language": "python",
     "metadata": {},
     "outputs": [],
     "prompt_number": 25
    },
    {
     "cell_type": "code",
     "collapsed": false,
     "input": [
      "print survived/float(len(data))*100"
     ],
     "language": "python",
     "metadata": {},
     "outputs": [
      {
       "output_type": "stream",
       "stream": "stdout",
       "text": [
        "38.3408071749\n"
       ]
      }
     ],
     "prompt_number": 26
    },
    {
     "cell_type": "markdown",
     "metadata": {},
     "source": [
      "### Function\n",
      "\n",
      "Write a function that returns a dictionary of the number of `survived`, `not survived`, and `unknown`.  Here is the example function call:\n",
      "```python\n",
      "print titanic_function(data)\n",
      "\n",
      "{'unknown': 1, 'survived': 342, 'not survived': 549}\n",
      "\n",
      "```\n"
     ]
    },
    {
     "cell_type": "code",
     "collapsed": false,
     "input": [
      "def titanic_function(data):\n",
      "    tmp = {}\n",
      "    for d in data:\n",
      "        try:\n",
      "            if int(d[0]) == 1:\n",
      "                tmp['survived'] = tmp.get('survived',0) + 1\n",
      "            else:\n",
      "                tmp['not survived'] = tmp.get('not survived',0) + 1\n",
      "        except ValueError:\n",
      "                tmp['unknown'] = tmp.get('unknown',0) + 1\n",
      "    return tmp"
     ],
     "language": "python",
     "metadata": {},
     "outputs": [],
     "prompt_number": 35
    },
    {
     "cell_type": "code",
     "collapsed": false,
     "input": [
      "print titanic_function(data)"
     ],
     "language": "python",
     "metadata": {},
     "outputs": [
      {
       "output_type": "stream",
       "stream": "stdout",
       "text": [
        "{'unknown': 1, 'survived': 342, 'not survived': 549}\n"
       ]
      }
     ],
     "prompt_number": 36
    },
    {
     "cell_type": "markdown",
     "metadata": {},
     "source": [
      "###What percent of males survived? Females?"
     ]
    },
    {
     "cell_type": "code",
     "collapsed": false,
     "input": [
      "def titanic_function(data):\n",
      "    M = {}\n",
      "    F = {}\n",
      "    for d in data:\n",
      "        try:\n",
      "            if d[3] == 'male':\n",
      "                if int(d[0]) == 1:\n",
      "                    M['survived'] = M.get('survived',0) + 1\n",
      "                else:\n",
      "                    M['not survived'] = M.get('not survived',0) + 1\n",
      "            elif d[3] == 'female':\n",
      "                if int(d[0]) == 1:\n",
      "                    F['survived'] = F.get('survived',0) + 1\n",
      "                else:\n",
      "                    F['not survived'] = F.get('not survived',0) + 1\n",
      "            else:\n",
      "                pass\n",
      "        except ValueError:\n",
      "            pass\n",
      "    return {'male': M, 'female': F}"
     ],
     "language": "python",
     "metadata": {},
     "outputs": [],
     "prompt_number": 53
    },
    {
     "cell_type": "code",
     "collapsed": false,
     "input": [
      "val = titanic_function(data)"
     ],
     "language": "python",
     "metadata": {},
     "outputs": [],
     "prompt_number": 50
    },
    {
     "cell_type": "code",
     "collapsed": false,
     "input": [
      "print val['male']['survived']/float( val['male']['survived'] + val['male']['not survived'])*100\n"
     ],
     "language": "python",
     "metadata": {},
     "outputs": [
      {
       "output_type": "stream",
       "stream": "stdout",
       "text": [
        "18.8908145581\n"
       ]
      }
     ],
     "prompt_number": 56
    },
    {
     "cell_type": "code",
     "collapsed": false,
     "input": [
      "print val['female']['survived']/float(val['female']['survived'] + val['female']['not survived'])*100"
     ],
     "language": "python",
     "metadata": {},
     "outputs": [
      {
       "output_type": "stream",
       "stream": "stdout",
       "text": [
        "74.2038216561\n"
       ]
      }
     ],
     "prompt_number": 57
    },
    {
     "cell_type": "code",
     "collapsed": false,
     "input": [],
     "language": "python",
     "metadata": {},
     "outputs": [],
     "prompt_number": 65
    },
    {
     "cell_type": "code",
     "collapsed": false,
     "input": [],
     "language": "python",
     "metadata": {},
     "outputs": []
    }
   ],
   "metadata": {}
  }
 ]
}