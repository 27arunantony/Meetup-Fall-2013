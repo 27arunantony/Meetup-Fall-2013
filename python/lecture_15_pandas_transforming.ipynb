{
 "metadata": {
  "css": [
   ""
  ],
  "name": ""
 },
 "nbformat": 3,
 "nbformat_minor": 0,
 "worksheets": [
  {
   "cells": [
    {
     "cell_type": "markdown",
     "metadata": {},
     "source": [
      "#Transforming Data"
     ]
    },
    {
     "cell_type": "markdown",
     "metadata": {},
     "source": [
      "Outline\n",
      "\n",
      "- **apply**: apply a function to the rows or columns of a DataFrame\n",
      "- **applymap**: apply a function to the elements of a DataFrame\n",
      "- **duplicated, drop_duplicated()**: for dealing with duplicate values\n",
      "- **replace**: modify subset of value\n",
      "\n",
      "**map**: element-wise transformations for `Series` (not covered)"
     ]
    },
    {
     "cell_type": "code",
     "collapsed": false,
     "input": [
      "import pandas as pd\n",
      "import numpy as np"
     ],
     "language": "python",
     "metadata": {},
     "outputs": [],
     "prompt_number": 8
    },
    {
     "cell_type": "markdown",
     "metadata": {},
     "source": [
      "##Row and column `apply`\n",
      "\n",
      "This is adapted from [Python for Data Analysis](http://shop.oreilly.com/product/0636920023784.do) by Wes McKinney"
     ]
    },
    {
     "cell_type": "markdown",
     "metadata": {},
     "source": [
      "data = pd.DataFrame(10*np.arange(1,17).reshape(4,4),\n",
      "                    index = ['y1','y2','y3','y4'],\n",
      "                    columns = ['x1','x2','x3','x4'])\n",
      "print data"
     ]
    },
    {
     "cell_type": "code",
     "collapsed": false,
     "input": [
      "def normalize(x):\n",
      "    norm_x = (x - x.min())/float(x.max()-x.min())\n",
      "    return norm_x"
     ],
     "language": "python",
     "metadata": {},
     "outputs": [],
     "prompt_number": 81
    },
    {
     "cell_type": "code",
     "collapsed": false,
     "input": [
      "norm_cols = data.apply(normalize)\n",
      "print norm_cols.head()"
     ],
     "language": "python",
     "metadata": {},
     "outputs": [
      {
       "output_type": "stream",
       "stream": "stdout",
       "text": [
        "          x1        x2        x3        x4\n",
        "y1  0.000000  0.000000  0.000000  0.000000\n",
        "y2  0.333333  0.333333  0.333333  0.333333\n",
        "y3  0.666667  0.666667  0.666667  0.666667\n",
        "y4  1.000000  1.000000  1.000000  1.000000\n"
       ]
      }
     ],
     "prompt_number": 82
    },
    {
     "cell_type": "code",
     "collapsed": false,
     "input": [
      "norm_rows = data.apply(normalize, axis=1)\n",
      "print norm_rows.head()"
     ],
     "language": "python",
     "metadata": {},
     "outputs": [
      {
       "output_type": "stream",
       "stream": "stdout",
       "text": [
        "    x1        x2        x3  x4\n",
        "y1   0  0.333333  0.666667   1\n",
        "y2   0  0.333333  0.666667   1\n",
        "y3   0  0.333333  0.666667   1\n",
        "y4   0  0.333333  0.666667   1\n"
       ]
      }
     ],
     "prompt_number": 83
    },
    {
     "cell_type": "markdown",
     "metadata": {},
     "source": [
      "##Element-wise `applymap`"
     ]
    },
    {
     "cell_type": "code",
     "collapsed": false,
     "input": [
      "def format(x):\n",
      "    return '%.2f'%x"
     ],
     "language": "python",
     "metadata": {},
     "outputs": [],
     "prompt_number": 95
    },
    {
     "cell_type": "code",
     "collapsed": false,
     "input": [
      "print data.applymap(format)"
     ],
     "language": "python",
     "metadata": {},
     "outputs": [
      {
       "output_type": "stream",
       "stream": "stdout",
       "text": [
        "        x1      x2      x3      x4\n",
        "y1   10.00   20.00   30.00   40.00\n",
        "y2   50.00   60.00   70.00   80.00\n",
        "y3   90.00  100.00  110.00  120.00\n",
        "y4  130.00  140.00  150.00  160.00\n"
       ]
      }
     ],
     "prompt_number": 96
    },
    {
     "cell_type": "markdown",
     "metadata": {},
     "source": [
      "## Row or column element-wise transformations with `map`"
     ]
    },
    {
     "cell_type": "code",
     "collapsed": false,
     "input": [
      "print data['x1'].map( lambda  x : x if x < 60 else -1 )"
     ],
     "language": "python",
     "metadata": {},
     "outputs": [
      {
       "output_type": "stream",
       "stream": "stdout",
       "text": [
        "y1    10\n",
        "y2    50\n",
        "y3    -1\n",
        "y4    -1\n",
        "Name: x1, dtype: int64\n"
       ]
      }
     ],
     "prompt_number": 97
    },
    {
     "cell_type": "code",
     "collapsed": false,
     "input": [
      "print data.ix['y1'].map( lambda x: x if x == 30 else 10 )"
     ],
     "language": "python",
     "metadata": {},
     "outputs": [
      {
       "output_type": "stream",
       "stream": "stdout",
       "text": [
        "x1    10\n",
        "x2    10\n",
        "x3    30\n",
        "x4    10\n",
        "Name: y1, dtype: int64\n"
       ]
      }
     ],
     "prompt_number": 104
    },
    {
     "cell_type": "markdown",
     "metadata": {},
     "source": [
      "##Duplicates"
     ]
    },
    {
     "cell_type": "code",
     "collapsed": false,
     "input": [
      "names = ['John', 'Matt', 'Sara', 'Jim', 'Ashley']\n",
      "ids = [ 23, 34, 83, 86, 12]\n",
      "balance = [10.2, 84.3, 72.9, 27.1, 223.1]\n",
      "department = ['A','A','B','B','B']\n",
      "\n",
      "users = pd.DataFrame({'id': ids, \n",
      "                      'name': names, \n",
      "                      'bal':balance, \n",
      "                      'dept': department})"
     ],
     "language": "python",
     "metadata": {},
     "outputs": [],
     "prompt_number": 109
    },
    {
     "cell_type": "code",
     "collapsed": false,
     "input": [
      "dups = pd.concat([users,users], ignore_index=True)\n",
      "print dups"
     ],
     "language": "python",
     "metadata": {},
     "outputs": [
      {
       "output_type": "stream",
       "stream": "stdout",
       "text": [
        "     bal dept  id    name\n",
        "0   10.2    A  23    John\n",
        "1   84.3    A  34    Matt\n",
        "2   72.9    B  83    Sara\n",
        "3   27.1    B  86     Jim\n",
        "4  223.1    B  12  Ashley\n",
        "5   10.2    A  23    John\n",
        "6   84.3    A  34    Matt\n",
        "7   72.9    B  83    Sara\n",
        "8   27.1    B  86     Jim\n",
        "9  223.1    B  12  Ashley\n"
       ]
      }
     ],
     "prompt_number": 111
    },
    {
     "cell_type": "code",
     "collapsed": false,
     "input": [
      "dups.duplicated()"
     ],
     "language": "python",
     "metadata": {},
     "outputs": [
      {
       "metadata": {},
       "output_type": "pyout",
       "prompt_number": 112,
       "text": [
        "0    False\n",
        "1    False\n",
        "2    False\n",
        "3    False\n",
        "4    False\n",
        "5     True\n",
        "6     True\n",
        "7     True\n",
        "8     True\n",
        "9     True\n",
        "dtype: bool"
       ]
      }
     ],
     "prompt_number": 112
    },
    {
     "cell_type": "code",
     "collapsed": false,
     "input": [
      "dups.drop_duplicates(inplace=True)\n",
      "print dups"
     ],
     "language": "python",
     "metadata": {},
     "outputs": [
      {
       "output_type": "stream",
       "stream": "stdout",
       "text": [
        "     bal dept  id    name\n",
        "0   10.2    A  23    John\n",
        "1   84.3    A  34    Matt\n",
        "2   72.9    B  83    Sara\n",
        "3   27.1    B  86     Jim\n",
        "4  223.1    B  12  Ashley\n"
       ]
      }
     ],
     "prompt_number": 113
    },
    {
     "cell_type": "markdown",
     "metadata": {},
     "source": [
      "##Replace"
     ]
    },
    {
     "cell_type": "code",
     "collapsed": false,
     "input": [
      "department_name = {'A': 'Finance', 'B': 'Marketing'}"
     ],
     "language": "python",
     "metadata": {},
     "outputs": [],
     "prompt_number": 114
    },
    {
     "cell_type": "markdown",
     "metadata": {},
     "source": [
      "### Using `map`"
     ]
    },
    {
     "cell_type": "code",
     "collapsed": false,
     "input": [
      "dups['dept'] = dups['dept'].map( lambda x: department_name.get(x,None))"
     ],
     "language": "python",
     "metadata": {},
     "outputs": [],
     "prompt_number": 117
    },
    {
     "cell_type": "code",
     "collapsed": false,
     "input": [
      "print dups"
     ],
     "language": "python",
     "metadata": {},
     "outputs": [
      {
       "output_type": "stream",
       "stream": "stdout",
       "text": [
        "     bal       dept  id    name\n",
        "0   10.2    Finance  23    John\n",
        "1   84.3    Finance  34    Matt\n",
        "2   72.9  Marketing  83    Sara\n",
        "3   27.1  Marketing  86     Jim\n",
        "4  223.1  Marketing  12  Ashley\n"
       ]
      }
     ],
     "prompt_number": 119
    },
    {
     "cell_type": "markdown",
     "metadata": {},
     "source": [
      "###Using `replace`"
     ]
    },
    {
     "cell_type": "code",
     "collapsed": false,
     "input": [
      "dups['dept'].replace(['Finance','Marketing'],['a','b'], inplace=True)"
     ],
     "language": "python",
     "metadata": {},
     "outputs": [],
     "prompt_number": 123
    },
    {
     "cell_type": "code",
     "collapsed": false,
     "input": [
      "print dups"
     ],
     "language": "python",
     "metadata": {},
     "outputs": [
      {
       "output_type": "stream",
       "stream": "stdout",
       "text": [
        "     bal dept  id    name\n",
        "0   10.2    a  23    John\n",
        "1   84.3    a  34    Matt\n",
        "2   72.9    b  83    Sara\n",
        "3   27.1    b  86     Jim\n",
        "4  223.1    b  12  Ashley\n"
       ]
      }
     ],
     "prompt_number": 124
    },
    {
     "cell_type": "markdown",
     "metadata": {},
     "source": [
      "##Application: Are names getting more diverse?"
     ]
    },
    {
     "cell_type": "code",
     "collapsed": false,
     "input": [
      "import glob, os\n",
      "\n",
      "def get_names_data():\n",
      "    frame_array = []\n",
      "    files = glob.glob(os.path.join('data','names','*.txt'))\n",
      "    for file in files:\n",
      "        start_index = file.find('yob')+3\n",
      "        year = int(file[start_index:start_index+4])\n",
      "        tmp = pd.read_csv(file, names=['name','gender','births'])\n",
      "        tmp['year'] = year\n",
      "        frame_array.append(tmp)\n",
      "    \n",
      "    names = pd.concat(frame_array, ignore_index=True)\n",
      "    return names"
     ],
     "language": "python",
     "metadata": {},
     "outputs": [],
     "prompt_number": 133
    },
    {
     "cell_type": "code",
     "collapsed": false,
     "input": [
      "names = get_names_data()\n",
      "print names.head()"
     ],
     "language": "python",
     "metadata": {},
     "outputs": [
      {
       "output_type": "stream",
       "stream": "stdout",
       "text": [
        "        name gender  births  year\n",
        "0       Mary      F    7065  1880\n",
        "1       Anna      F    2604  1880\n",
        "2       Emma      F    2003  1880\n",
        "3  Elizabeth      F    1939  1880\n",
        "4     Minnie      F    1746  1880\n"
       ]
      }
     ],
     "prompt_number": 134
    },
    {
     "cell_type": "markdown",
     "metadata": {},
     "source": [
      "What is the proportion of births relative to the total births?\n",
      "\n",
      "- group by **year** and **gender**\n",
      "- compute the sum per group\n",
      "- gives us the proportion\n"
     ]
    },
    {
     "cell_type": "code",
     "collapsed": false,
     "input": [
      "gpr = names.groupby(['year','gender'])"
     ],
     "language": "python",
     "metadata": {},
     "outputs": [],
     "prompt_number": 135
    },
    {
     "cell_type": "markdown",
     "metadata": {},
     "source": [
      "What should we do with each group?\n",
      "\n",
      "- Each group contains `names` and `births`.\n",
      "- compute proportion and add to group."
     ]
    },
    {
     "cell_type": "code",
     "collapsed": false,
     "input": [
      "def add_prop(group):\n",
      "    births = group['births'].astype(float)\n",
      "    group['prop'] = births/births.sum()\n",
      "    return group"
     ],
     "language": "python",
     "metadata": {},
     "outputs": [],
     "prompt_number": 136
    },
    {
     "cell_type": "code",
     "collapsed": false,
     "input": [
      "names = gpr.apply(add_prop)\n",
      "print names.head()"
     ],
     "language": "python",
     "metadata": {},
     "outputs": [
      {
       "output_type": "stream",
       "stream": "stdout",
       "text": [
        "        name gender  births  year      prop\n",
        "0       Mary      F    7065  1880  0.077642\n",
        "1       Anna      F    2604  1880  0.028617\n",
        "2       Emma      F    2003  1880  0.022012\n",
        "3  Elizabeth      F    1939  1880  0.021309\n",
        "4     Minnie      F    1746  1880  0.019188\n"
       ]
      }
     ],
     "prompt_number": 138
    },
    {
     "cell_type": "markdown",
     "metadata": {},
     "source": [
      "Did we do this correctly?"
     ]
    },
    {
     "cell_type": "code",
     "collapsed": false,
     "input": [
      "print names.groupby(['year','gender']).sum().head(10)"
     ],
     "language": "python",
     "metadata": {},
     "outputs": [
      {
       "output_type": "stream",
       "stream": "stdout",
       "text": [
        "             births  prop\n",
        "year gender              \n",
        "1880 F        90994     1\n",
        "     M       110492     1\n",
        "1881 F        91955     1\n",
        "     M       100747     1\n",
        "1882 F       107851     1\n",
        "     M       113687     1\n",
        "1883 F       112322     1\n",
        "     M       104631     1\n",
        "1884 F       129022     1\n",
        "     M       114445     1\n"
       ]
      }
     ],
     "prompt_number": 141
    },
    {
     "cell_type": "markdown",
     "metadata": {},
     "source": [
      "### The `mean` proportion"
     ]
    },
    {
     "cell_type": "code",
     "collapsed": false,
     "input": [
      "diverse = pd.pivot_table(names, values='prop',\n",
      "                         rows='year', \n",
      "                         cols='gender', aggfunc=mean)"
     ],
     "language": "python",
     "metadata": {},
     "outputs": [],
     "prompt_number": 160
    },
    {
     "cell_type": "code",
     "collapsed": false,
     "input": [
      "print diverse.head()"
     ],
     "language": "python",
     "metadata": {},
     "outputs": [
      {
       "output_type": "stream",
       "stream": "stdout",
       "text": [
        "gender         F         M\n",
        "year                      \n",
        "1880    0.001062  0.000945\n",
        "1881    0.001066  0.001003\n",
        "1882    0.000973  0.000910\n",
        "1883    0.000949  0.000971\n",
        "1884    0.000853  0.000889\n"
       ]
      }
     ],
     "prompt_number": 161
    },
    {
     "cell_type": "code",
     "collapsed": false,
     "input": [
      "diverse.plot()"
     ],
     "language": "python",
     "metadata": {},
     "outputs": [
      {
       "metadata": {},
       "output_type": "pyout",
       "prompt_number": 162,
       "text": [
        "<matplotlib.axes.AxesSubplot at 0x131df5510>"
       ]
      },
      {
       "metadata": {},
       "output_type": "display_data",
       "png": "[encoded data removed]",
       "text": [
        "<matplotlib.figure.Figure at 0x1322b0dd0>"
       ]
      }
     ],
     "prompt_number": 162
    },
    {
     "cell_type": "markdown",
     "metadata": {},
     "source": [
      "### The top 1000 names per group"
     ]
    },
    {
     "cell_type": "code",
     "collapsed": false,
     "input": [
      "def get_top1000(group):\n",
      "    top = group.sort('births', ascending=False)[:1000]\n",
      "    return top"
     ],
     "language": "python",
     "metadata": {},
     "outputs": [],
     "prompt_number": 163
    },
    {
     "cell_type": "code",
     "collapsed": false,
     "input": [
      "top_names = names.groupby(['year','gender']).apply(get_top1000)\n",
      "print top_names.head()"
     ],
     "language": "python",
     "metadata": {},
     "outputs": [
      {
       "output_type": "stream",
       "stream": "stdout",
       "text": [
        "                    name gender  births  year      prop\n",
        "year gender                                            \n",
        "1880 F      0       Mary      F    7065  1880  0.077642\n",
        "            1       Anna      F    2604  1880  0.028617\n",
        "            2       Emma      F    2003  1880  0.022012\n",
        "            3  Elizabeth      F    1939  1880  0.021309\n",
        "            4     Minnie      F    1746  1880  0.019188\n"
       ]
      }
     ],
     "prompt_number": 164
    },
    {
     "cell_type": "code",
     "collapsed": false,
     "input": [
      "diverse = pd.pivot_table(top_names, \n",
      "                         values='prop',\n",
      "                         rows='year', \n",
      "                         cols='gender', aggfunc=sum)"
     ],
     "language": "python",
     "metadata": {},
     "outputs": [],
     "prompt_number": 165
    },
    {
     "cell_type": "code",
     "collapsed": false,
     "input": [
      "diverse.plot()"
     ],
     "language": "python",
     "metadata": {},
     "outputs": [
      {
       "metadata": {},
       "output_type": "pyout",
       "prompt_number": 166,
       "text": [
        "<matplotlib.axes.AxesSubplot at 0x13160dd10>"
       ]
      },
      {
       "metadata": {},
       "output_type": "display_data",
       "png": "[encoded data removed]",
       "text": [
        "<matplotlib.figure.Figure at 0x1312bd890>"
       ]
      }
     ],
     "prompt_number": 166
    },
    {
     "cell_type": "code",
     "collapsed": false,
     "input": [],
     "language": "python",
     "metadata": {},
     "outputs": []
    }
   ],
   "metadata": {}
  }
 ]
}