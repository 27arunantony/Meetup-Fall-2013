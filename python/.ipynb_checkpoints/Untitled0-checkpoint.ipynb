{
 "metadata": {
  "name": ""
 },
 "nbformat": 3,
 "nbformat_minor": 0,
 "worksheets": [
  {
   "cells": [
    {
     "cell_type": "markdown",
     "metadata": {},
     "source": [
      "# Control Flow"
     ]
    },
    {
     "cell_type": "markdown",
     "metadata": {},
     "source": [
      "## `if`, `elif`, and `else`"
     ]
    },
    {
     "cell_type": "code",
     "collapsed": false,
     "input": [
      "car = 10.00\n",
      "bus = 2.50\n",
      "cash = 1.50"
     ],
     "language": "python",
     "metadata": {},
     "outputs": [],
     "prompt_number": 24
    },
    {
     "cell_type": "code",
     "collapsed": false,
     "input": [
      "if car < cash:\n",
      "    print 'I can drive'\n",
      "    \n",
      "if bus < cash and car > cash:\n",
      "    print \"I'll take the bus\"\n",
      "    \n",
      "if bus > cash:\n",
      "    print 'Walking'"
     ],
     "language": "python",
     "metadata": {},
     "outputs": [
      {
       "output_type": "stream",
       "stream": "stdout",
       "text": [
        "Walking\n"
       ]
      }
     ],
     "prompt_number": 25
    },
    {
     "cell_type": "markdown",
     "metadata": {},
     "source": [
      "We can accomplish the same goal with `elif` and `else`."
     ]
    },
    {
     "cell_type": "code",
     "collapsed": false,
     "input": [
      "if car < cash:\n",
      "    print 'Enjoy your car ride'\n",
      "elif bus < cash:\n",
      "    print 'Another one rides the bus'\n",
      "else:\n",
      "    print 'Walking..'"
     ],
     "language": "python",
     "metadata": {},
     "outputs": []
    },
    {
     "cell_type": "markdown",
     "metadata": {},
     "source": [
      "If nothing `else`, walking.\n",
      "\n",
      "We can also use a `ternary` expression:"
     ]
    },
    {
     "cell_type": "code",
     "collapsed": false,
     "input": [
      "action = 'car' if car < cash else 'walking'\n",
      "\n",
      "print action"
     ],
     "language": "python",
     "metadata": {},
     "outputs": [
      {
       "output_type": "stream",
       "stream": "stdout",
       "text": [
        "walking\n"
       ]
      }
     ],
     "prompt_number": 30
    },
    {
     "cell_type": "code",
     "collapsed": false,
     "input": [],
     "language": "python",
     "metadata": {},
     "outputs": []
    }
   ],
   "metadata": {}
  }
 ]
}