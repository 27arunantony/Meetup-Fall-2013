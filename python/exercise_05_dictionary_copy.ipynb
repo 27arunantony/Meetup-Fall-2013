{
 "metadata": {
  "name": ""
 },
 "nbformat": 3,
 "nbformat_minor": 0,
 "worksheets": [
  {
   "cells": [
    {
     "cell_type": "markdown",
     "metadata": {},
     "source": [
      "#Exercise 05: Dictionary and File IO"
     ]
    },
    {
     "cell_type": "markdown",
     "metadata": {},
     "source": [
      "##Dictionary"
     ]
    },
    {
     "cell_type": "code",
     "collapsed": false,
     "input": [
      "zipcodes = {}\n",
      "zipcodes['80403'] = 'Boulder, CO'\n",
      "zipcodes['80123'] = 'Monument, CO'\n",
      "zipcodes['80919'] = 'Colorado Springs, CO'"
     ],
     "language": "python",
     "metadata": {},
     "outputs": [
      {
       "output_type": "stream",
       "stream": "stdout",
       "text": [
        "\n"
       ]
      }
     ],
     "prompt_number": 3
    },
    {
     "cell_type": "code",
     "collapsed": false,
     "input": [
      "names = {}\n",
      "names['Pat'] = '80403'\n",
      "names['Bob'] = '80919'\n",
      "names['Jane'] = '80132'"
     ],
     "language": "python",
     "metadata": {},
     "outputs": [],
     "prompt_number": 4
    },
    {
     "cell_type": "code",
     "collapsed": false,
     "input": [
      "name = 'Pat'\n",
      "print name, 'lives in', zipcodes[names[name]]"
     ],
     "language": "python",
     "metadata": {},
     "outputs": [
      {
       "output_type": "stream",
       "stream": "stdout",
       "text": [
        "Pat lives in Boulder, CO\n"
       ]
      }
     ],
     "prompt_number": 5
    },
    {
     "cell_type": "markdown",
     "metadata": {},
     "source": [
      "Add a phone number to the `names` dictionary. \n",
      "\n",
      "Your new output should look like:\n",
      "\n",
      "    Pat is from Boulder, CO :  xxx-xxx-xxxx"
     ]
    },
    {
     "cell_type": "markdown",
     "metadata": {},
     "source": [
      "##Copy script\n",
      "\n",
      "Copy one file to another.  How many lines of code do you need?  Can you do it in one?"
     ]
    },
    {
     "cell_type": "code",
     "collapsed": false,
     "input": [],
     "language": "python",
     "metadata": {},
     "outputs": []
    }
   ],
   "metadata": {}
  }
 ]
}