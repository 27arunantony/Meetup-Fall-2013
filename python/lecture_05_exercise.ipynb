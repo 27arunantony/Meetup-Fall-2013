{
 "metadata": {
  "name": ""
 },
 "nbformat": 3,
 "nbformat_minor": 0,
 "worksheets": [
  {
   "cells": [
    {
     "cell_type": "markdown",
     "metadata": {
      "slideshow": {
       "slide_type": "slide"
      }
     },
     "source": [
      "#Exercise 05: Dictionary and File IO"
     ]
    },
    {
     "cell_type": "markdown",
     "metadata": {},
     "source": [
      "##Dictionary\n",
      "\n",
      "Consider the following dictionarys:"
     ]
    },
    {
     "cell_type": "code",
     "collapsed": false,
     "input": [
      "zipcodes = {}\n",
      "zipcodes['80403'] = 'Boulder, CO, Boulder County'\n",
      "zipcodes['80123'] = 'Monument, CO El Paso County'\n",
      "zipcodes['80919'] = 'Colorado Springs, CO El Paso County'"
     ],
     "language": "python",
     "metadata": {},
     "outputs": [
      {
       "output_type": "stream",
       "stream": "stdout",
       "text": [
        "\n"
       ]
      }
     ],
     "prompt_number": 2
    },
    {
     "cell_type": "code",
     "collapsed": false,
     "input": [
      "names = {}\n",
      "names['Pat'] = '80403'\n",
      "names['Bob'] = '80919'\n",
      "names['Jane'] = '80132'"
     ],
     "language": "python",
     "metadata": {},
     "outputs": [],
     "prompt_number": 3
    },
    {
     "cell_type": "markdown",
     "metadata": {},
     "source": [
      "It's efficient because I can linke a `name` with `zipcode` information.  Then I can print `name` information."
     ]
    },
    {
     "cell_type": "code",
     "collapsed": false,
     "input": [
      "name = 'Pat'\n",
      "\n",
      "print name, 'lives in', zipcodes[names[name]]"
     ],
     "language": "python",
     "metadata": {},
     "outputs": [
      {
       "output_type": "stream",
       "stream": "stdout",
       "text": [
        "Pat lives in Boulder, CO, Boulder County\n"
       ]
      }
     ],
     "prompt_number": 4
    },
    {
     "cell_type": "markdown",
     "metadata": {},
     "source": [
      "1. Add a phone number to the `names` dictionary. \n",
      "\n",
      "    Your new output should look like:\n",
      "\n",
      "        Pat is from Boulder CO, Boulder County :  xxx-xxx-xxxx"
     ]
    },
    {
     "cell_type": "markdown",
     "metadata": {},
     "source": [
      "##Copy script\n",
      "\n",
      "Create a small script that copies one file to another. \n",
      "\n",
      "- How many lines of code do you need?  \n",
      "- Can you do it in one?\n",
      "- Is there an advantage?"
     ]
    }
   ],
   "metadata": {}
  }
 ]
}