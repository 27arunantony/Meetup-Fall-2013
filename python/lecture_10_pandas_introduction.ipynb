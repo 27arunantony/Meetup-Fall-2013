{
 "metadata": {
  "css": [
   ""
  ],
  "name": ""
 },
 "nbformat": 3,
 "nbformat_minor": 0,
 "worksheets": [
  {
   "cells": [
    {
     "cell_type": "markdown",
     "metadata": {},
     "source": [
      "#Pandas"
     ]
    },
    {
     "cell_type": "code",
     "collapsed": false,
     "input": [
      "import pandas as pd"
     ],
     "language": "python",
     "metadata": {},
     "outputs": [],
     "prompt_number": 46
    },
    {
     "cell_type": "markdown",
     "metadata": {},
     "source": [
      "##Creating DataFrames\n",
      "\n",
      "The two important structures for `pandas` is the `Series` and the `DataFrame`.  Let's start with `DataFrame`s.  \n",
      "\n",
      "Data: a few lists"
     ]
    },
    {
     "cell_type": "code",
     "collapsed": false,
     "input": [
      "names = ['John', 'Matt', 'Sara', 'Jim', 'Ashley']\n",
      "ids = [ 23, 34, 83, 86, 12]\n",
      "balance = [10.2, 84.3, 72.9, 27.1, 223.1]"
     ],
     "language": "python",
     "metadata": {},
     "outputs": [],
     "prompt_number": 47
    },
    {
     "cell_type": "markdown",
     "metadata": {},
     "source": [
      "###Dictionaries"
     ]
    },
    {
     "cell_type": "code",
     "collapsed": false,
     "input": [
      "dic = {'ids': ids, 'names': names, 'bal':balance}\n",
      "users = pd.DataFrame(dic)\n",
      "print users"
     ],
     "language": "python",
     "metadata": {},
     "outputs": [
      {
       "output_type": "stream",
       "stream": "stdout",
       "text": [
        "     bal  ids   names\n",
        "0   10.2   23    John\n",
        "1   84.3   34    Matt\n",
        "2   72.9   83    Sara\n",
        "3   27.1   86     Jim\n",
        "4  223.1   12  Ashley\n"
       ]
      }
     ],
     "prompt_number": 48
    },
    {
     "cell_type": "code",
     "collapsed": false,
     "input": [
      "users = pd.DataFrame({'names': names, 'bal':balance}, index=ids)\n",
      "print users"
     ],
     "language": "python",
     "metadata": {},
     "outputs": [
      {
       "output_type": "stream",
       "stream": "stdout",
       "text": [
        "      bal   names\n",
        "23   10.2    John\n",
        "34   84.3    Matt\n",
        "83   72.9    Sara\n",
        "86   27.1     Jim\n",
        "12  223.1  Ashley\n"
       ]
      }
     ],
     "prompt_number": 49
    },
    {
     "cell_type": "markdown",
     "metadata": {},
     "source": [
      "Note: JSON format converts to a dictionary."
     ]
    },
    {
     "cell_type": "markdown",
     "metadata": {},
     "source": [
      "###Reading from a file\n",
      "\n",
      "This example uses the names datafiles from [Social Security Administration](http://www.ssa.gov/oact/babynames/limits.html) and is based on the examples in Wes Mickinney's book [Python for Data Analysis](http://shop.oreilly.com/product/0636920023784.do)"
     ]
    },
    {
     "cell_type": "code",
     "collapsed": false,
     "input": [
      "import os\n",
      "filename = os.path.join('data','names','yob1880.txt')\n",
      "names = pd.read_csv(filename)\n",
      "print names.head(3) #First 3 items"
     ],
     "language": "python",
     "metadata": {},
     "outputs": [
      {
       "output_type": "stream",
       "stream": "stdout",
       "text": [
        "        Mary  F  7065\n",
        "0       Anna  F  2604\n",
        "1       Emma  F  2003\n",
        "2  Elizabeth  F  1939\n"
       ]
      }
     ],
     "prompt_number": 50
    },
    {
     "cell_type": "markdown",
     "metadata": {},
     "source": [
      "If the file does not contain a header, then the names of the columns need to be passed as the **names** argument."
     ]
    },
    {
     "cell_type": "code",
     "collapsed": false,
     "input": [
      "names = pd.read_csv(filename, names=['name','gender','births'])\n",
      "print names.tail() # last items, 5 by default"
     ],
     "language": "python",
     "metadata": {},
     "outputs": [
      {
       "output_type": "stream",
       "stream": "stdout",
       "text": [
        "           name gender  births\n",
        "1995     Woodie      M       5\n",
        "1996     Worthy      M       5\n",
        "1997     Wright      M       5\n",
        "1998       York      M       5\n",
        "1999  Zachariah      M       5\n"
       ]
      }
     ],
     "prompt_number": 51
    },
    {
     "cell_type": "markdown",
     "metadata": {},
     "source": [
      "###Excel\n",
      "\n",
      "We'll come back to this data later."
     ]
    },
    {
     "cell_type": "code",
     "collapsed": false,
     "input": [
      "df = pd.read_excel('data/income_2012.xls', 'H02', skiprows=4)\n",
      "print df.head()"
     ],
     "language": "python",
     "metadata": {},
     "outputs": [
      {
       "output_type": "stream",
       "stream": "stdout",
       "text": [
        "  Unnamed: 0  Unnamed: 1  Lowest fifth  Second fifth  Third fifth  \\\n",
        "0       2012      122459         3.230         8.332       14.360   \n",
        "1       2011      121084         3.200         8.400       14.300   \n",
        "2  2010 (37)      119927         3.268         8.467       14.591   \n",
        "3  2009 (36)      117538         3.409         8.607       14.572   \n",
        "4       2008      117181         3.400         8.600       14.700   \n",
        "\n",
        "   Fourth fifth  Highest fifth  Top 5 percent  \n",
        "0        23.036         51.041         22.311  \n",
        "1        23.000         51.100         22.300  \n",
        "2        23.407         50.267         21.307  \n",
        "3        23.151         50.260         21.725  \n",
        "4        23.300         50.000         21.500  \n"
       ]
      }
     ],
     "prompt_number": 52
    },
    {
     "cell_type": "markdown",
     "metadata": {},
     "source": [
      "### Other methods\n",
      "\n",
      "You can also read from sql or hdf5 files."
     ]
    },
    {
     "cell_type": "markdown",
     "metadata": {},
     "source": [
      "##Selecting data\n",
      "\n",
      "There are several ways to access the row and column data.\n",
      "\n",
      "### Rows, the `ix` method"
     ]
    },
    {
     "cell_type": "code",
     "collapsed": false,
     "input": [
      "print names.ix[0]"
     ],
     "language": "python",
     "metadata": {},
     "outputs": [
      {
       "output_type": "stream",
       "stream": "stdout",
       "text": [
        "name      Mary\n",
        "gender       F\n",
        "births    7065\n",
        "Name: 0, dtype: object\n"
       ]
      }
     ],
     "prompt_number": 53
    },
    {
     "cell_type": "code",
     "collapsed": false,
     "input": [
      "print names.ix[0:2]"
     ],
     "language": "python",
     "metadata": {},
     "outputs": [
      {
       "output_type": "stream",
       "stream": "stdout",
       "text": [
        "   name gender  births\n",
        "0  Mary      F    7065\n",
        "1  Anna      F    2604\n",
        "2  Emma      F    2003\n"
       ]
      }
     ],
     "prompt_number": 54
    },
    {
     "cell_type": "code",
     "collapsed": false,
     "input": [
      "print names.ix[[0,2,3]]"
     ],
     "language": "python",
     "metadata": {},
     "outputs": [
      {
       "output_type": "stream",
       "stream": "stdout",
       "text": [
        "        name gender  births\n",
        "0       Mary      F    7065\n",
        "2       Emma      F    2003\n",
        "3  Elizabeth      F    1939\n"
       ]
      }
     ],
     "prompt_number": 55
    },
    {
     "cell_type": "markdown",
     "metadata": {},
     "source": [
      "It's not the index **value** it's the index itself.  e.g."
     ]
    },
    {
     "cell_type": "code",
     "collapsed": false,
     "input": [
      "print users.ix[86]"
     ],
     "language": "python",
     "metadata": {},
     "outputs": [
      {
       "output_type": "stream",
       "stream": "stdout",
       "text": [
        "bal      27.1\n",
        "names     Jim\n",
        "Name: 86, dtype: object\n"
       ]
      }
     ],
     "prompt_number": 56
    },
    {
     "cell_type": "code",
     "collapsed": false,
     "input": [
      "print users.T.head()"
     ],
     "language": "python",
     "metadata": {},
     "outputs": [
      {
       "output_type": "stream",
       "stream": "stdout",
       "text": [
        "         23    34    83    86      12\n",
        "bal    10.2  84.3  72.9  27.1   223.1\n",
        "names  John  Matt  Sara   Jim  Ashley\n"
       ]
      }
     ],
     "prompt_number": 57
    },
    {
     "cell_type": "code",
     "collapsed": false,
     "input": [
      "print users.T.ix[['bal','names']].head()"
     ],
     "language": "python",
     "metadata": {},
     "outputs": [
      {
       "output_type": "stream",
       "stream": "stdout",
       "text": [
        "         23    34    83    86      12\n",
        "bal    10.2  84.3  72.9  27.1   223.1\n",
        "names  John  Matt  Sara   Jim  Ashley\n"
       ]
      }
     ],
     "prompt_number": 58
    },
    {
     "cell_type": "markdown",
     "metadata": {},
     "source": [
      "###Column data"
     ]
    },
    {
     "cell_type": "code",
     "collapsed": false,
     "input": [
      "print users.ix[:,0].head()"
     ],
     "language": "python",
     "metadata": {},
     "outputs": [
      {
       "output_type": "stream",
       "stream": "stdout",
       "text": [
        "23     10.2\n",
        "34     84.3\n",
        "83     72.9\n",
        "86     27.1\n",
        "12    223.1\n",
        "Name: bal, dtype: float64\n"
       ]
      }
     ],
     "prompt_number": 59
    },
    {
     "cell_type": "code",
     "collapsed": false,
     "input": [
      "print names.ix[:,[2,1,0]].head()"
     ],
     "language": "python",
     "metadata": {},
     "outputs": [
      {
       "output_type": "stream",
       "stream": "stdout",
       "text": [
        "   births gender       name\n",
        "0    7065      F       Mary\n",
        "1    2604      F       Anna\n",
        "2    2003      F       Emma\n",
        "3    1939      F  Elizabeth\n",
        "4    1746      F     Minnie\n"
       ]
      }
     ],
     "prompt_number": 60
    },
    {
     "cell_type": "markdown",
     "metadata": {},
     "source": [
      "Even better... grab them by name!"
     ]
    },
    {
     "cell_type": "code",
     "collapsed": false,
     "input": [
      "print users['names']"
     ],
     "language": "python",
     "metadata": {},
     "outputs": [
      {
       "output_type": "stream",
       "stream": "stdout",
       "text": [
        "23      John\n",
        "34      Matt\n",
        "83      Sara\n",
        "86       Jim\n",
        "12    Ashley\n",
        "Name: names, dtype: object\n"
       ]
      }
     ],
     "prompt_number": 61
    },
    {
     "cell_type": "markdown",
     "metadata": {},
     "source": [
      "Or use the `.` (dot) notation."
     ]
    },
    {
     "cell_type": "code",
     "collapsed": false,
     "input": [
      "print names.births.head()"
     ],
     "language": "python",
     "metadata": {},
     "outputs": [
      {
       "output_type": "stream",
       "stream": "stdout",
       "text": [
        "0    7065\n",
        "1    2604\n",
        "2    2003\n",
        "3    1939\n",
        "4    1746\n",
        "Name: births, dtype: int64\n"
       ]
      }
     ],
     "prompt_number": 62
    },
    {
     "cell_type": "markdown",
     "metadata": {},
     "source": [
      "Mix and match"
     ]
    },
    {
     "cell_type": "code",
     "collapsed": false,
     "input": [
      "print names.ix[0:10,['gender','births']].head()"
     ],
     "language": "python",
     "metadata": {},
     "outputs": [
      {
       "output_type": "stream",
       "stream": "stdout",
       "text": [
        "  gender  births\n",
        "0      F    7065\n",
        "1      F    2604\n",
        "2      F    2003\n",
        "3      F    1939\n",
        "4      F    1746\n"
       ]
      }
     ],
     "prompt_number": 63
    },
    {
     "cell_type": "markdown",
     "metadata": {},
     "source": [
      "##Index objects"
     ]
    },
    {
     "cell_type": "code",
     "collapsed": false,
     "input": [
      "print users.index\n",
      "print users.index.values"
     ],
     "language": "python",
     "metadata": {},
     "outputs": [
      {
       "output_type": "stream",
       "stream": "stdout",
       "text": [
        "Int64Index([23, 34, 83, 86, 12], dtype=int64)\n",
        "[23 34 83 86 12]\n"
       ]
      }
     ],
     "prompt_number": 64
    },
    {
     "cell_type": "markdown",
     "metadata": {},
     "source": [
      "Several types, including:\n",
      "\n",
      "- MultiIndex\n",
      "- DatatimeIndex\n",
      "- PeriodIndex"
     ]
    },
    {
     "cell_type": "markdown",
     "metadata": {},
     "source": [
      "###reset_index"
     ]
    },
    {
     "cell_type": "code",
     "collapsed": false,
     "input": [
      "print users.reset_index().head()"
     ],
     "language": "python",
     "metadata": {},
     "outputs": [
      {
       "output_type": "stream",
       "stream": "stdout",
       "text": [
        "   index    bal   names\n",
        "0     23   10.2    John\n",
        "1     34   84.3    Matt\n",
        "2     83   72.9    Sara\n",
        "3     86   27.1     Jim\n",
        "4     12  223.1  Ashley\n"
       ]
      }
     ],
     "prompt_number": 65
    },
    {
     "cell_type": "code",
     "collapsed": false,
     "input": [
      "print users.head()"
     ],
     "language": "python",
     "metadata": {},
     "outputs": [
      {
       "output_type": "stream",
       "stream": "stdout",
       "text": [
        "      bal   names\n",
        "23   10.2    John\n",
        "34   84.3    Matt\n",
        "83   72.9    Sara\n",
        "86   27.1     Jim\n",
        "12  223.1  Ashley\n"
       ]
      }
     ],
     "prompt_number": 66
    },
    {
     "cell_type": "code",
     "collapsed": false,
     "input": [
      "users.reset_index(inplace=True)\n",
      "print users.head()"
     ],
     "language": "python",
     "metadata": {},
     "outputs": [
      {
       "output_type": "stream",
       "stream": "stdout",
       "text": [
        "   index    bal   names\n",
        "0     23   10.2    John\n",
        "1     34   84.3    Matt\n",
        "2     83   72.9    Sara\n",
        "3     86   27.1     Jim\n",
        "4     12  223.1  Ashley\n"
       ]
      }
     ],
     "prompt_number": 67
    },
    {
     "cell_type": "markdown",
     "metadata": {},
     "source": [
      "###set_index"
     ]
    },
    {
     "cell_type": "code",
     "collapsed": false,
     "input": [
      "print users.set_index('names').head()"
     ],
     "language": "python",
     "metadata": {},
     "outputs": [
      {
       "output_type": "stream",
       "stream": "stdout",
       "text": [
        "        index    bal\n",
        "names               \n",
        "John       23   10.2\n",
        "Matt       34   84.3\n",
        "Sara       83   72.9\n",
        "Jim        86   27.1\n",
        "Ashley     12  223.1\n"
       ]
      }
     ],
     "prompt_number": 68
    },
    {
     "cell_type": "markdown",
     "metadata": {},
     "source": [
      "##Essentials"
     ]
    },
    {
     "cell_type": "markdown",
     "metadata": {},
     "source": [
      "### Deleting data with `drop`"
     ]
    },
    {
     "cell_type": "code",
     "collapsed": false,
     "input": [
      "print users"
     ],
     "language": "python",
     "metadata": {},
     "outputs": [
      {
       "output_type": "stream",
       "stream": "stdout",
       "text": [
        "   index    bal   names\n",
        "0     23   10.2    John\n",
        "1     34   84.3    Matt\n",
        "2     83   72.9    Sara\n",
        "3     86   27.1     Jim\n",
        "4     12  223.1  Ashley\n"
       ]
      }
     ],
     "prompt_number": 69
    },
    {
     "cell_type": "code",
     "collapsed": false,
     "input": [
      "new_users = users.drop(83)\n",
      "print new_users"
     ],
     "language": "python",
     "metadata": {},
     "outputs": [
      {
       "ename": "ValueError",
       "evalue": "labels [83] not contained in axis",
       "output_type": "pyerr",
       "traceback": [
        "\u001b[0;31m---------------------------------------------------------------------------\u001b[0m\n\u001b[0;31mValueError\u001b[0m                                Traceback (most recent call last)",
        "\u001b[0;32m<ipython-input-70-ad11faca6e90>\u001b[0m in \u001b[0;36m<module>\u001b[0;34m()\u001b[0m\n\u001b[0;32m----> 1\u001b[0;31m \u001b[0mnew_users\u001b[0m \u001b[0;34m=\u001b[0m \u001b[0musers\u001b[0m\u001b[0;34m.\u001b[0m\u001b[0mdrop\u001b[0m\u001b[0;34m(\u001b[0m\u001b[0;36m83\u001b[0m\u001b[0;34m)\u001b[0m\u001b[0;34m\u001b[0m\u001b[0m\n\u001b[0m\u001b[1;32m      2\u001b[0m \u001b[0;32mprint\u001b[0m \u001b[0mnew_users\u001b[0m\u001b[0;34m\u001b[0m\u001b[0m\n",
        "\u001b[0;32m/Users/mlunacek/anaconda/lib/python2.7/site-packages/pandas/core/generic.pyc\u001b[0m in \u001b[0;36mdrop\u001b[0;34m(self, labels, axis, level)\u001b[0m\n\u001b[1;32m    402\u001b[0m                 \u001b[0mnew_axis\u001b[0m \u001b[0;34m=\u001b[0m \u001b[0maxis\u001b[0m\u001b[0;34m.\u001b[0m\u001b[0mdrop\u001b[0m\u001b[0;34m(\u001b[0m\u001b[0mlabels\u001b[0m\u001b[0;34m,\u001b[0m \u001b[0mlevel\u001b[0m\u001b[0;34m=\u001b[0m\u001b[0mlevel\u001b[0m\u001b[0;34m)\u001b[0m\u001b[0;34m\u001b[0m\u001b[0m\n\u001b[1;32m    403\u001b[0m             \u001b[0;32melse\u001b[0m\u001b[0;34m:\u001b[0m\u001b[0;34m\u001b[0m\u001b[0m\n\u001b[0;32m--> 404\u001b[0;31m                 \u001b[0mnew_axis\u001b[0m \u001b[0;34m=\u001b[0m \u001b[0maxis\u001b[0m\u001b[0;34m.\u001b[0m\u001b[0mdrop\u001b[0m\u001b[0;34m(\u001b[0m\u001b[0mlabels\u001b[0m\u001b[0;34m)\u001b[0m\u001b[0;34m\u001b[0m\u001b[0m\n\u001b[0m\u001b[1;32m    405\u001b[0m             \u001b[0mdropped\u001b[0m \u001b[0;34m=\u001b[0m \u001b[0mself\u001b[0m\u001b[0;34m.\u001b[0m\u001b[0mreindex\u001b[0m\u001b[0;34m(\u001b[0m\u001b[0;34m**\u001b[0m\u001b[0;34m{\u001b[0m\u001b[0maxis_name\u001b[0m\u001b[0;34m:\u001b[0m \u001b[0mnew_axis\u001b[0m\u001b[0;34m}\u001b[0m\u001b[0;34m)\u001b[0m\u001b[0;34m\u001b[0m\u001b[0m\n\u001b[1;32m    406\u001b[0m             \u001b[0;32mtry\u001b[0m\u001b[0;34m:\u001b[0m\u001b[0;34m\u001b[0m\u001b[0m\n",
        "\u001b[0;32m/Users/mlunacek/anaconda/lib/python2.7/site-packages/pandas/core/index.pyc\u001b[0m in \u001b[0;36mdrop\u001b[0;34m(self, labels)\u001b[0m\n\u001b[1;32m   1305\u001b[0m         \u001b[0mmask\u001b[0m \u001b[0;34m=\u001b[0m \u001b[0mindexer\u001b[0m \u001b[0;34m==\u001b[0m \u001b[0;34m-\u001b[0m\u001b[0;36m1\u001b[0m\u001b[0;34m\u001b[0m\u001b[0m\n\u001b[1;32m   1306\u001b[0m         \u001b[0;32mif\u001b[0m \u001b[0mmask\u001b[0m\u001b[0;34m.\u001b[0m\u001b[0many\u001b[0m\u001b[0;34m(\u001b[0m\u001b[0;34m)\u001b[0m\u001b[0;34m:\u001b[0m\u001b[0;34m\u001b[0m\u001b[0m\n\u001b[0;32m-> 1307\u001b[0;31m             \u001b[0;32mraise\u001b[0m \u001b[0mValueError\u001b[0m\u001b[0;34m(\u001b[0m\u001b[0;34m'labels %s not contained in axis'\u001b[0m \u001b[0;34m%\u001b[0m \u001b[0mlabels\u001b[0m\u001b[0;34m[\u001b[0m\u001b[0mmask\u001b[0m\u001b[0;34m]\u001b[0m\u001b[0;34m)\u001b[0m\u001b[0;34m\u001b[0m\u001b[0m\n\u001b[0m\u001b[1;32m   1308\u001b[0m         \u001b[0;32mreturn\u001b[0m \u001b[0mself\u001b[0m\u001b[0;34m.\u001b[0m\u001b[0mdelete\u001b[0m\u001b[0;34m(\u001b[0m\u001b[0mindexer\u001b[0m\u001b[0;34m)\u001b[0m\u001b[0;34m\u001b[0m\u001b[0m\n\u001b[1;32m   1309\u001b[0m \u001b[0;34m\u001b[0m\u001b[0m\n",
        "\u001b[0;31mValueError\u001b[0m: labels [83] not contained in axis"
       ]
      }
     ],
     "prompt_number": 70
    },
    {
     "cell_type": "code",
     "collapsed": false,
     "input": [
      "new_users = users.drop('bal', axis=1)\n",
      "print new_users"
     ],
     "language": "python",
     "metadata": {},
     "outputs": [
      {
       "output_type": "stream",
       "stream": "stdout",
       "text": [
        "   index   names\n",
        "0     23    John\n",
        "1     34    Matt\n",
        "2     83    Sara\n",
        "3     86     Jim\n",
        "4     12  Ashley\n"
       ]
      }
     ],
     "prompt_number": 71
    },
    {
     "cell_type": "markdown",
     "metadata": {},
     "source": [
      "###Filtering"
     ]
    },
    {
     "cell_type": "code",
     "collapsed": false,
     "input": [
      "print users.bal > 30.0"
     ],
     "language": "python",
     "metadata": {},
     "outputs": [
      {
       "output_type": "stream",
       "stream": "stdout",
       "text": [
        "0    False\n",
        "1     True\n",
        "2     True\n",
        "3    False\n",
        "4     True\n",
        "Name: bal, dtype: bool\n"
       ]
      }
     ],
     "prompt_number": 72
    },
    {
     "cell_type": "code",
     "collapsed": false,
     "input": [
      "print users[users.bal > 30.0].head()"
     ],
     "language": "python",
     "metadata": {},
     "outputs": [
      {
       "output_type": "stream",
       "stream": "stdout",
       "text": [
        "   index    bal   names\n",
        "1     34   84.3    Matt\n",
        "2     83   72.9    Sara\n",
        "4     12  223.1  Ashley\n"
       ]
      }
     ],
     "prompt_number": 73
    },
    {
     "cell_type": "code",
     "collapsed": false,
     "input": [
      "print names[names.gender == 'F'].head()"
     ],
     "language": "python",
     "metadata": {},
     "outputs": [
      {
       "output_type": "stream",
       "stream": "stdout",
       "text": [
        "        name gender  births\n",
        "0       Mary      F    7065\n",
        "1       Anna      F    2604\n",
        "2       Emma      F    2003\n",
        "3  Elizabeth      F    1939\n",
        "4     Minnie      F    1746\n"
       ]
      }
     ],
     "prompt_number": 74
    },
    {
     "cell_type": "code",
     "collapsed": false,
     "input": [
      "print names.ix[names.gender == 'F',['name','births']].head()"
     ],
     "language": "python",
     "metadata": {},
     "outputs": [
      {
       "output_type": "stream",
       "stream": "stdout",
       "text": [
        "        name  births\n",
        "0       Mary    7065\n",
        "1       Anna    2604\n",
        "2       Emma    2003\n",
        "3  Elizabeth    1939\n",
        "4     Minnie    1746\n"
       ]
      }
     ],
     "prompt_number": 75
    },
    {
     "cell_type": "code",
     "collapsed": false,
     "input": [
      "mask1 = names.gender == 'M'\n",
      "mask2 = names.births > 2000"
     ],
     "language": "python",
     "metadata": {},
     "outputs": [],
     "prompt_number": 76
    },
    {
     "cell_type": "code",
     "collapsed": false,
     "input": [
      "print names[(mask1) & (mask2)].head()"
     ],
     "language": "python",
     "metadata": {},
     "outputs": [
      {
       "output_type": "stream",
       "stream": "stdout",
       "text": [
        "        name gender  births\n",
        "942     John      M    9655\n",
        "943  William      M    9533\n",
        "944    James      M    5927\n",
        "945  Charles      M    5348\n",
        "946   George      M    5126\n"
       ]
      }
     ],
     "prompt_number": 77
    },
    {
     "cell_type": "markdown",
     "metadata": {},
     "source": [
      "and `&`, or `|`, not `~`"
     ]
    },
    {
     "cell_type": "code",
     "collapsed": false,
     "input": [
      "print names[::2].head()"
     ],
     "language": "python",
     "metadata": {},
     "outputs": [
      {
       "output_type": "stream",
       "stream": "stdout",
       "text": [
        "     name gender  births\n",
        "0    Mary      F    7065\n",
        "2    Emma      F    2003\n",
        "4  Minnie      F    1746\n",
        "6     Ida      F    1472\n",
        "8  Bertha      F    1320\n"
       ]
      }
     ],
     "prompt_number": 78
    },
    {
     "cell_type": "markdown",
     "metadata": {},
     "source": [
      "###Sorting"
     ]
    },
    {
     "cell_type": "markdown",
     "metadata": {},
     "source": [
      "Sort either index"
     ]
    },
    {
     "cell_type": "code",
     "collapsed": false,
     "input": [
      "print names.sort_index(ascending=False).head()"
     ],
     "language": "python",
     "metadata": {},
     "outputs": [
      {
       "output_type": "stream",
       "stream": "stdout",
       "text": [
        "           name gender  births\n",
        "1999  Zachariah      M       5\n",
        "1998       York      M       5\n",
        "1997     Wright      M       5\n",
        "1996     Worthy      M       5\n",
        "1995     Woodie      M       5\n"
       ]
      }
     ],
     "prompt_number": 79
    },
    {
     "cell_type": "code",
     "collapsed": false,
     "input": [
      "print names.sort_index(axis=1).head()"
     ],
     "language": "python",
     "metadata": {},
     "outputs": [
      {
       "output_type": "stream",
       "stream": "stdout",
       "text": [
        "   births gender       name\n",
        "0    7065      F       Mary\n",
        "1    2604      F       Anna\n",
        "2    2003      F       Emma\n",
        "3    1939      F  Elizabeth\n",
        "4    1746      F     Minnie\n"
       ]
      }
     ],
     "prompt_number": 80
    },
    {
     "cell_type": "markdown",
     "metadata": {},
     "source": [
      "Sort the data"
     ]
    },
    {
     "cell_type": "code",
     "collapsed": false,
     "input": [
      "print users.sort('names').head()"
     ],
     "language": "python",
     "metadata": {},
     "outputs": [
      {
       "output_type": "stream",
       "stream": "stdout",
       "text": [
        "   index    bal   names\n",
        "4     12  223.1  Ashley\n",
        "3     86   27.1     Jim\n",
        "0     23   10.2    John\n",
        "1     34   84.3    Matt\n",
        "2     83   72.9    Sara\n"
       ]
      }
     ],
     "prompt_number": 81
    },
    {
     "cell_type": "code",
     "collapsed": false,
     "input": [
      "print names.sort(['births','name'], ascending=[False,True]).head()"
     ],
     "language": "python",
     "metadata": {},
     "outputs": [
      {
       "output_type": "stream",
       "stream": "stdout",
       "text": [
        "        name gender  births\n",
        "942     John      M    9655\n",
        "943  William      M    9533\n",
        "0       Mary      F    7065\n",
        "944    James      M    5927\n",
        "945  Charles      M    5348\n"
       ]
      }
     ],
     "prompt_number": 82
    },
    {
     "cell_type": "markdown",
     "metadata": {},
     "source": [
      "What are the top 10 names in 1880?"
     ]
    },
    {
     "cell_type": "code",
     "collapsed": false,
     "input": [
      "print names.sort('births').tail(10)"
     ],
     "language": "python",
     "metadata": {},
     "outputs": [
      {
       "output_type": "stream",
       "stream": "stdout",
       "text": [
        "        name gender  births\n",
        "949   Thomas      M    2534\n",
        "1       Anna      F    2604\n",
        "948   Joseph      M    2632\n",
        "947    Frank      M    3242\n",
        "946   George      M    5126\n",
        "945  Charles      M    5348\n",
        "944    James      M    5927\n",
        "0       Mary      F    7065\n",
        "943  William      M    9533\n",
        "942     John      M    9655\n"
       ]
      }
     ],
     "prompt_number": 83
    },
    {
     "cell_type": "markdown",
     "metadata": {},
     "source": [
      "## Missing data"
     ]
    },
    {
     "cell_type": "markdown",
     "metadata": {},
     "source": [
      "Data from Roger Peng [Coursera](https://www.coursera.org) class [Computing for Data Analysis](https://www.coursera.org/course/compdata)."
     ]
    },
    {
     "cell_type": "code",
     "collapsed": false,
     "input": [
      "data = pd.read_csv(os.path.join('data', 'hw1_data.csv'))\n",
      "print data.head()"
     ],
     "language": "python",
     "metadata": {},
     "outputs": [
      {
       "output_type": "stream",
       "stream": "stdout",
       "text": [
        "   Ozone  Solar.R  Wind  Temp  Month  Day\n",
        "0     41      190   7.4    67      5    1\n",
        "1     36      118   8.0    72      5    2\n",
        "2     12      149  12.6    74      5    3\n",
        "3     18      313  11.5    62      5    4\n",
        "4    NaN      NaN  14.3    56      5    5\n"
       ]
      }
     ],
     "prompt_number": 84
    },
    {
     "cell_type": "code",
     "collapsed": false,
     "input": [
      "print len(data)"
     ],
     "language": "python",
     "metadata": {},
     "outputs": [
      {
       "output_type": "stream",
       "stream": "stdout",
       "text": [
        "153\n"
       ]
      }
     ],
     "prompt_number": 85
    },
    {
     "cell_type": "markdown",
     "metadata": {},
     "source": [
      "Drop any row with one or more `NaN`"
     ]
    },
    {
     "cell_type": "code",
     "collapsed": false,
     "input": [
      "print len(data.dropna())"
     ],
     "language": "python",
     "metadata": {},
     "outputs": [
      {
       "output_type": "stream",
       "stream": "stdout",
       "text": [
        "111\n"
       ]
      }
     ],
     "prompt_number": 86
    },
    {
     "cell_type": "markdown",
     "metadata": {},
     "source": [
      "Check for `null` values for a column."
     ]
    },
    {
     "cell_type": "code",
     "collapsed": false,
     "input": [
      "print data['Solar.R'].isnull().head()"
     ],
     "language": "python",
     "metadata": {},
     "outputs": [
      {
       "output_type": "stream",
       "stream": "stdout",
       "text": [
        "0    False\n",
        "1    False\n",
        "2    False\n",
        "3    False\n",
        "4     True\n",
        "Name: Solar.R, dtype: bool\n"
       ]
      }
     ],
     "prompt_number": 87
    },
    {
     "cell_type": "code",
     "collapsed": false,
     "input": [
      "print data['Solar.R'].notnull().head()"
     ],
     "language": "python",
     "metadata": {},
     "outputs": [
      {
       "output_type": "stream",
       "stream": "stdout",
       "text": [
        "0     True\n",
        "1     True\n",
        "2     True\n",
        "3     True\n",
        "4    False\n",
        "Name: Solar.R, dtype: bool\n"
       ]
      }
     ],
     "prompt_number": 88
    },
    {
     "cell_type": "markdown",
     "metadata": {},
     "source": [
      "Filling in missing values with `fillna()`."
     ]
    },
    {
     "cell_type": "code",
     "collapsed": false,
     "input": [
      "print data['Solar.R'].fillna(-999).head()"
     ],
     "language": "python",
     "metadata": {},
     "outputs": [
      {
       "output_type": "stream",
       "stream": "stdout",
       "text": [
        "0    190\n",
        "1    118\n",
        "2    149\n",
        "3    313\n",
        "4   -999\n",
        "Name: Solar.R, dtype: float64\n"
       ]
      }
     ],
     "prompt_number": 89
    },
    {
     "cell_type": "markdown",
     "metadata": {},
     "source": [
      "Several methods parameters for `fillna`.\n",
      "\n",
      "    ffill, limits, inplace, axiz, value"
     ]
    },
    {
     "cell_type": "markdown",
     "metadata": {},
     "source": [
      "##Summarizing and describing"
     ]
    },
    {
     "cell_type": "code",
     "collapsed": false,
     "input": [
      "print data.describe()"
     ],
     "language": "python",
     "metadata": {},
     "outputs": [
      {
       "output_type": "stream",
       "stream": "stdout",
       "text": [
        "            Ozone     Solar.R        Wind        Temp       Month         Day\n",
        "count  116.000000  146.000000  153.000000  153.000000  153.000000  153.000000\n",
        "mean    42.129310  185.931507    9.957516   77.882353    6.993464   15.803922\n",
        "std     32.987885   90.058422    3.523001    9.465270    1.416522    8.864520\n",
        "min      1.000000    7.000000    1.700000   56.000000    5.000000    1.000000\n",
        "25%     18.000000  115.750000    7.400000   72.000000    6.000000    8.000000\n",
        "50%     31.500000  205.000000    9.700000   79.000000    7.000000   16.000000\n",
        "75%     63.250000  258.750000   11.500000   85.000000    8.000000   23.000000\n",
        "max    168.000000  334.000000   20.700000   97.000000    9.000000   31.000000\n"
       ]
      }
     ],
     "prompt_number": 90
    },
    {
     "cell_type": "code",
     "collapsed": false,
     "input": [
      "print data.count()"
     ],
     "language": "python",
     "metadata": {},
     "outputs": [
      {
       "output_type": "stream",
       "stream": "stdout",
       "text": [
        "Ozone      116\n",
        "Solar.R    146\n",
        "Wind       153\n",
        "Temp       153\n",
        "Month      153\n",
        "Day        153\n",
        "dtype: int64\n"
       ]
      }
     ],
     "prompt_number": 91
    },
    {
     "cell_type": "code",
     "collapsed": false,
     "input": [
      "print data['Ozone'].mean()"
     ],
     "language": "python",
     "metadata": {},
     "outputs": [
      {
       "output_type": "stream",
       "stream": "stdout",
       "text": [
        "42.1293103448\n"
       ]
      }
     ],
     "prompt_number": 92
    },
    {
     "cell_type": "markdown",
     "metadata": {},
     "source": [
      "Several methods\n",
      "\n",
      "    count, describe, min, max, argmin, argmax, sum, mean, median, var, std, pct_change\n"
     ]
    },
    {
     "cell_type": "code",
     "collapsed": false,
     "input": [],
     "language": "python",
     "metadata": {},
     "outputs": [],
     "prompt_number": 92
    }
   ],
   "metadata": {}
  }
 ]
}